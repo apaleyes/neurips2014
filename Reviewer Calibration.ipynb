{
 "cells": [
  {
   "cell_type": "markdown",
   "metadata": {},
   "source": [
    "## Reviewer Calibration\n",
    "\n",
    "### 30th July 2014 Neil D. Lawrence\n",
    "\n",
    "In this note book we deal with reviewer calibration. Our assumption is that the score from the $j$th reviwer for the $i$th paper is given by\n",
    "$$\n",
    "y_{i,j} = f_i + b_j + \\epsilon_{i, j}\n",
    "$$\n",
    "where $f_i$ is the 'objective quality' of paper $i$ and $b_j$ is an offset associated with reviewer $j$. $\\epsilon_{i,j}$ is a subjective quality estimate which reflects how a specific reviewer's opinion differs from other reviewers (such differences in opinion may be due to differing expertise or perspective). The underlying 'objective quality' of the paper  is assumed to be the same for all reviewers and the reviewer offset is assumed to be the same for all papers.\n",
    "\n",
    "If we have $n$ papers and $m$ reviewers then this implies $n$ + $m$ + $nm$ values need to be estimated. Naturally this is too many, and we can start by assuming that the subjective quality is drawn from a normal density with variance $\\sigma^2$\n",
    "$$\n",
    "\\epsilon_{i, j} \\sim N(0, \\sigma^2 \\mathbf{I})\n",
    "$$\n",
    "which reduces us to $n$ + $m$ + 1 parameters. Further we can assume that the objective quality is also normally distributed with mean $\\mu$ and variance $\\alpha_f$, \n",
    "$$\n",
    "f_i \\sim N(\\mu, \\alpha_f)\n",
    "$$\n",
    "this now reduces us to $m$+3 parameters. However, we only have approximately $4m$ observations (4 papers per reviewer) so parameters may still not be that well determined (particularly for those reviewers that have only one review). We therefore, finally, assume that reviewer offset is normally distributed with zero mean, \n",
    "$$\n",
    "b_j \\sim N(0, \\alpha_b),\n",
    "$$\n",
    "leaving us only four parameters: $\\mu$, $\\sigma^2$, $\\alpha_f$ and $\\alpha_b$. Combined together these three assumptions imply that\n",
    "$$\n",
    "\\mathbf{y} \\sim N(\\mu \\mathbf{1}, \\mathbf{K})\n",
    "$$\n",
    "where $\\mathbf{y}$ is a vector of stacked scores $\\mathbf{1}$ is the vector of ones and the elements of the covariance function are given by\n",
    "$$\n",
    "k(i,j; k,l) = \\delta_{i,k} \\alpha_f + \\delta_{j,l} \\alpha_b + \\delta_{i, k}\\delta_{j,l} \\sigma^2\n",
    "$$\n",
    "where $i$ and $j$ are the index of first paper and reviewer and $k$ and $l$ are the index of second paper and reviewer.\n",
    "The mean is easily estimated by maximum likelihood, and is given as the mean of all scores. \n",
    "\n",
    "It is convenient to reparameterize slightly into an overall scale $\\alpha_f$, and normalized variance parameters,\n",
    "$$\n",
    "k(i,j; k,l) = \\alpha_f(\\delta_{i,k}  + \\delta_{j,l} \\frac{\\alpha_b}{\\alpha_f} + \\delta_{i, k}\\delta_{j,l} \\frac{\\sigma^2}{\\alpha_f})\n",
    "$$\n",
    "which we rewrite to give two ratios: offset/signal ratio, $\\hat{\\alpha}_b$ and noise/signal $\\hat{\\sigma}^2$ ratio. \n",
    "$$\n",
    "k(i,j; k,l) = \\alpha_f(\\delta_{i,k}  + \\delta_{j,l} \\hat{\\alpha}_b + \\delta_{i, k}\\delta_{j,l} \\hat{\\sigma}^2)\n",
    "$$\n",
    "The advantage of this parameterization is it allows us to optimize $\\alpha_f$ directly (with a fixed point equation) and it will be very well determined. This leaves us with two free parameters, that we can explore on the grid. It is in these parameters that we expect the remaining underdetermindness of the model. We expect $\\alpha_f$ to be well determined because the negative log likelihood is now\n",
    "$$\n",
    "\\frac{|\\mathbf{y}|}{2}\\log\\alpha_f + \\frac{1}{2}\\log  \\left|\\hat{\\mathbf{K}}\\right| + \\frac{1}{2\\alpha_f}\\mathbf{y}^\\top \\hat{\\mathbf{K}}^{-1} \\mathbf{y}\n",
    "$$\n",
    "where $|\\mathbf{y}|$ is the length of $\\mathbf{y}$ (i.e. the number of reviews) and $\\hat{\\mathbf{K}}=\\alpha_f^{-1}\\mathbf{K}$ is the scale normalised covariance. This negative log likelihood is easily minimized to recover\n",
    "$$\n",
    "\\alpha_f = \\frac{1}{|\\mathbf{y}|} \\mathbf{y}^\\top \\hat{\\mathbf{K}}^{-1} \\mathbf{y}\n",
    "$$\n",
    "A Bayesian analysis of this parameter is possible with gamma priors, but it would merely shows that this parameter is extremely well determined (the degrees of freedom parameter of the associated Student-$t$ marginal likelihood scales will the number of reviews, which will be around $|\\mathbf{y}| \\approx 6,000$ in our case.\n",
    "\n",
    "So, we propose to proceed as follows. Set the mean from the reviews ($\\mu$) and then choose a two dimensional grid of parameters for reviewer offset and diversity. For each parameter choice, optimize to find $\\alpha_f$ and then evaluate the liklihood. Worst case this will require us inverting $\\hat{\\mathbf{K}}$, but if the reviewer paper groups are disconnected, it can be done a lot quicker. Next stage is to load in the reviews for analysis."
   ]
  },
  {
   "cell_type": "code",
   "execution_count": null,
   "metadata": {},
   "outputs": [],
   "source": [
    "import urllib.request\n",
    "urllib.request.urlretrieve('https://raw.githubusercontent.com/sods/conference/master/cmtutils.py','cmtutils.py')"
   ]
  },
  {
   "cell_type": "code",
   "execution_count": 1,
   "metadata": {},
   "outputs": [
    {
     "name": "stdout",
     "output_type": "stream",
     "text": [
      "Requirement already satisfied: gpy in /Users/neil/anaconda3/lib/python3.6/site-packages (1.8.5)\n",
      "Requirement already satisfied: numpy>=1.7 in /Users/neil/anaconda3/lib/python3.6/site-packages (from gpy) (1.18.2)\n",
      "Requirement already satisfied: six in /Users/neil/anaconda3/lib/python3.6/site-packages (from gpy) (1.14.0)\n",
      "Requirement already satisfied: scipy>=0.16 in /Users/neil/anaconda3/lib/python3.6/site-packages (from gpy) (1.4.1)\n",
      "Requirement already satisfied: paramz>=0.8.5 in /Users/neil/anaconda3/lib/python3.6/site-packages (from gpy) (0.8.5)\n",
      "Requirement already satisfied: decorator>=4.0.10 in /Users/neil/anaconda3/lib/python3.6/site-packages (from paramz>=0.8.5->gpy) (4.4.2)\n",
      "Note: you may need to restart the kernel to use updated packages.\n",
      "Requirement already satisfied: gspread in /Users/neil/anaconda3/lib/python3.6/site-packages (3.6.0)\n",
      "Requirement already satisfied: google-auth-oauthlib>=0.4.1 in /Users/neil/anaconda3/lib/python3.6/site-packages (from gspread) (0.4.1)\n",
      "Requirement already satisfied: google-auth>=1.12.0 in /Users/neil/anaconda3/lib/python3.6/site-packages (from gspread) (1.22.1)\n",
      "Requirement already satisfied: requests>=2.2.1 in /Users/neil/anaconda3/lib/python3.6/site-packages (from gspread) (2.23.0)\n",
      "Requirement already satisfied: requests-oauthlib>=0.7.0 in /Users/neil/anaconda3/lib/python3.6/site-packages (from google-auth-oauthlib>=0.4.1->gspread) (1.3.0)\n",
      "Requirement already satisfied: pyasn1-modules>=0.2.1 in /Users/neil/anaconda3/lib/python3.6/site-packages (from google-auth>=1.12.0->gspread) (0.2.8)\n",
      "Requirement already satisfied: setuptools>=40.3.0 in /Users/neil/anaconda3/lib/python3.6/site-packages (from google-auth>=1.12.0->gspread) (46.0.0.post20200309)\n",
      "Requirement already satisfied: six>=1.9.0 in /Users/neil/anaconda3/lib/python3.6/site-packages (from google-auth>=1.12.0->gspread) (1.14.0)\n",
      "Requirement already satisfied: rsa<5,>=3.1.4; python_version >= \"3.5\" in /Users/neil/anaconda3/lib/python3.6/site-packages (from google-auth>=1.12.0->gspread) (4.6)\n",
      "Requirement already satisfied: cachetools<5.0,>=2.0.0 in /Users/neil/anaconda3/lib/python3.6/site-packages (from google-auth>=1.12.0->gspread) (4.1.1)\n",
      "Requirement already satisfied: idna<3,>=2.5 in /Users/neil/anaconda3/lib/python3.6/site-packages (from requests>=2.2.1->gspread) (2.9)\n",
      "Requirement already satisfied: certifi>=2017.4.17 in /Users/neil/anaconda3/lib/python3.6/site-packages (from requests>=2.2.1->gspread) (2020.6.20)\n",
      "Requirement already satisfied: urllib3!=1.25.0,!=1.25.1,<1.26,>=1.21.1 in /Users/neil/anaconda3/lib/python3.6/site-packages (from requests>=2.2.1->gspread) (1.25.8)\n",
      "Requirement already satisfied: chardet<4,>=3.0.2 in /Users/neil/anaconda3/lib/python3.6/site-packages (from requests>=2.2.1->gspread) (3.0.4)\n",
      "Requirement already satisfied: oauthlib>=3.0.0 in /Users/neil/anaconda3/lib/python3.6/site-packages (from requests-oauthlib>=0.7.0->google-auth-oauthlib>=0.4.1->gspread) (3.1.0)\n",
      "Requirement already satisfied: pyasn1<0.5.0,>=0.4.6 in /Users/neil/anaconda3/lib/python3.6/site-packages (from pyasn1-modules>=0.2.1->google-auth>=1.12.0->gspread) (0.4.8)\n",
      "Note: you may need to restart the kernel to use updated packages.\n",
      "Requirement already up-to-date: google-api-python-client in /Users/neil/anaconda3/lib/python3.6/site-packages (1.12.3)\n",
      "Requirement already satisfied, skipping upgrade: uritemplate<4dev,>=3.0.0 in /Users/neil/anaconda3/lib/python3.6/site-packages (from google-api-python-client) (3.0.1)\n",
      "Requirement already satisfied, skipping upgrade: six<2dev,>=1.13.0 in /Users/neil/anaconda3/lib/python3.6/site-packages (from google-api-python-client) (1.14.0)\n",
      "Requirement already satisfied, skipping upgrade: httplib2<1dev,>=0.15.0 in /Users/neil/anaconda3/lib/python3.6/site-packages (from google-api-python-client) (0.18.1)\n",
      "Requirement already satisfied, skipping upgrade: google-api-core<2dev,>=1.21.0 in /Users/neil/anaconda3/lib/python3.6/site-packages (from google-api-python-client) (1.22.4)\n",
      "Requirement already satisfied, skipping upgrade: google-auth>=1.16.0 in /Users/neil/anaconda3/lib/python3.6/site-packages (from google-api-python-client) (1.22.1)\n",
      "Requirement already satisfied, skipping upgrade: google-auth-httplib2>=0.0.3 in /Users/neil/anaconda3/lib/python3.6/site-packages (from google-api-python-client) (0.0.4)\n",
      "Requirement already satisfied, skipping upgrade: protobuf>=3.12.0 in /Users/neil/anaconda3/lib/python3.6/site-packages (from google-api-core<2dev,>=1.21.0->google-api-python-client) (3.13.0)\n",
      "Requirement already satisfied, skipping upgrade: requests<3.0.0dev,>=2.18.0 in /Users/neil/anaconda3/lib/python3.6/site-packages (from google-api-core<2dev,>=1.21.0->google-api-python-client) (2.23.0)\n",
      "Requirement already satisfied, skipping upgrade: pytz in /Users/neil/anaconda3/lib/python3.6/site-packages (from google-api-core<2dev,>=1.21.0->google-api-python-client) (2019.3)\n",
      "Requirement already satisfied, skipping upgrade: setuptools>=34.0.0 in /Users/neil/anaconda3/lib/python3.6/site-packages (from google-api-core<2dev,>=1.21.0->google-api-python-client) (46.0.0.post20200309)\n",
      "Requirement already satisfied, skipping upgrade: googleapis-common-protos<2.0dev,>=1.6.0 in /Users/neil/anaconda3/lib/python3.6/site-packages (from google-api-core<2dev,>=1.21.0->google-api-python-client) (1.52.0)\n",
      "Requirement already satisfied, skipping upgrade: pyasn1-modules>=0.2.1 in /Users/neil/anaconda3/lib/python3.6/site-packages (from google-auth>=1.16.0->google-api-python-client) (0.2.8)\n",
      "Requirement already satisfied, skipping upgrade: rsa<5,>=3.1.4; python_version >= \"3.5\" in /Users/neil/anaconda3/lib/python3.6/site-packages (from google-auth>=1.16.0->google-api-python-client) (4.6)\n",
      "Requirement already satisfied, skipping upgrade: cachetools<5.0,>=2.0.0 in /Users/neil/anaconda3/lib/python3.6/site-packages (from google-auth>=1.16.0->google-api-python-client) (4.1.1)\n",
      "Requirement already satisfied, skipping upgrade: idna<3,>=2.5 in /Users/neil/anaconda3/lib/python3.6/site-packages (from requests<3.0.0dev,>=2.18.0->google-api-core<2dev,>=1.21.0->google-api-python-client) (2.9)\n",
      "Requirement already satisfied, skipping upgrade: urllib3!=1.25.0,!=1.25.1,<1.26,>=1.21.1 in /Users/neil/anaconda3/lib/python3.6/site-packages (from requests<3.0.0dev,>=2.18.0->google-api-core<2dev,>=1.21.0->google-api-python-client) (1.25.8)\n",
      "Requirement already satisfied, skipping upgrade: certifi>=2017.4.17 in /Users/neil/anaconda3/lib/python3.6/site-packages (from requests<3.0.0dev,>=2.18.0->google-api-core<2dev,>=1.21.0->google-api-python-client) (2020.6.20)\n",
      "Requirement already satisfied, skipping upgrade: chardet<4,>=3.0.2 in /Users/neil/anaconda3/lib/python3.6/site-packages (from requests<3.0.0dev,>=2.18.0->google-api-core<2dev,>=1.21.0->google-api-python-client) (3.0.4)\n",
      "Requirement already satisfied, skipping upgrade: pyasn1<0.5.0,>=0.4.6 in /Users/neil/anaconda3/lib/python3.6/site-packages (from pyasn1-modules>=0.2.1->google-auth>=1.16.0->google-api-python-client) (0.4.8)\n",
      "Note: you may need to restart the kernel to use updated packages.\n",
      "Collecting git+https://github.com/sods/ods\n",
      "  Cloning https://github.com/sods/ods to /private/var/folders/22/6ls22g994bdfdpwx4f9gcmsw0000gn/T/pip-req-build-a_inxyzk\n",
      "  Running command git clone -q https://github.com/sods/ods /private/var/folders/22/6ls22g994bdfdpwx4f9gcmsw0000gn/T/pip-req-build-a_inxyzk\n",
      "Requirement already satisfied (use --upgrade to upgrade): pods==0.0.21a0 from git+https://github.com/sods/ods in /Users/neil/anaconda3/lib/python3.6/site-packages\n",
      "Building wheels for collected packages: pods\n",
      "  Building wheel for pods (setup.py) ... \u001b[?25ldone\n",
      "\u001b[?25h  Created wheel for pods: filename=pods-0.0.21a0-py3-none-any.whl size=69621 sha256=9ffcb5c4ba6d6b27762ea685b7398acfb53750741d0c36d44997db96a7c4370d\n",
      "  Stored in directory: /private/var/folders/22/6ls22g994bdfdpwx4f9gcmsw0000gn/T/pip-ephem-wheel-cache-8j3emry7/wheels/56/7f/87/0040ccbdd4956090a84a27ce7652170066c3ba2fc4078a892d\n",
      "Successfully built pods\n",
      "Note: you may need to restart the kernel to use updated packages.\n",
      "Requirement already satisfied: httplib2 in /Users/neil/anaconda3/lib/python3.6/site-packages (0.18.1)\n",
      "Note: you may need to restart the kernel to use updated packages.\n"
     ]
    }
   ],
   "source": [
    "%pip install gpy\n",
    "%pip install gspread\n",
    "%pip install --upgrade google-api-python-client\n",
    "%pip install --upgrade git+https://github.com/sods/ods\n",
    "%pip install httplib2"
   ]
  },
  {
   "cell_type": "code",
   "execution_count": 5,
   "metadata": {},
   "outputs": [
    {
     "name": "stdout",
     "output_type": "stream",
     "text": [
      "Collecting git+https://github.com/sods/ods\n",
      "  Cloning https://github.com/sods/ods to /private/var/folders/22/6ls22g994bdfdpwx4f9gcmsw0000gn/T/pip-req-build-w1yp5nv2\n",
      "  Running command git clone -q https://github.com/sods/ods /private/var/folders/22/6ls22g994bdfdpwx4f9gcmsw0000gn/T/pip-req-build-w1yp5nv2\n",
      "Building wheels for collected packages: pods\n",
      "  Building wheel for pods (setup.py) ... \u001b[?25ldone\n",
      "\u001b[?25h  Created wheel for pods: filename=pods-0.0.21a0-py3-none-any.whl size=69621 sha256=8930f636428df7ac12872f1787d35319ccd53dff3a98d35f5f2b63e9a25fe555\n",
      "  Stored in directory: /private/var/folders/22/6ls22g994bdfdpwx4f9gcmsw0000gn/T/pip-ephem-wheel-cache-o291o06z/wheels/56/7f/87/0040ccbdd4956090a84a27ce7652170066c3ba2fc4078a892d\n",
      "Successfully built pods\n",
      "Installing collected packages: pods\n",
      "  Attempting uninstall: pods\n",
      "    Found existing installation: pods 0.0.21a0\n",
      "    Uninstalling pods-0.0.21a0:\n",
      "      Successfully uninstalled pods-0.0.21a0\n",
      "Successfully installed pods-0.0.21a0\n",
      "Note: you may need to restart the kernel to use updated packages.\n"
     ]
    }
   ],
   "source": [
    "%pip install --upgrade git+https://github.com/sods/ods"
   ]
  },
  {
   "cell_type": "code",
   "execution_count": 3,
   "metadata": {},
   "outputs": [],
   "source": [
    "    from googleapiclient import errors\n",
    "    from googleapiclient.discovery import build\n",
    "    from googleapiclient.http import BatchHttpRequest\n",
    "    from googleapiclient import sample_tools\n",
    "    from googleapiclient import discovery\n",
    "    import types"
   ]
  },
  {
   "cell_type": "code",
   "execution_count": 1,
   "metadata": {},
   "outputs": [
    {
     "data": {
      "text/plain": [
       "False"
      ]
     },
     "execution_count": 1,
     "metadata": {},
     "output_type": "execute_result"
    }
   ],
   "source": [
    "import pods \n",
    "pods.google.api_available"
   ]
  },
  {
   "cell_type": "code",
   "execution_count": 4,
   "metadata": {},
   "outputs": [],
   "source": [
    "    from googleapiclient import errors\n",
    "    from googleapiclient.discovery import build\n",
    "    from googleapiclient.http import BatchHttpRequest\n",
    "    from googleapiclient import sample_tools\n",
    "    from googleapiclient import discovery\n",
    "    import types"
   ]
  },
  {
   "cell_type": "code",
   "execution_count": 1,
   "metadata": {},
   "outputs": [
    {
     "ename": "AttributeError",
     "evalue": "module 'pods.google' has no attribute 'sheet'",
     "output_type": "error",
     "traceback": [
      "\u001b[0;31m---------------------------------------------------------------------------\u001b[0m",
      "\u001b[0;31mAttributeError\u001b[0m                            Traceback (most recent call last)",
      "\u001b[0;32m<ipython-input-1-4519290760fb>\u001b[0m in \u001b[0;36m<module>\u001b[0;34m\u001b[0m\n\u001b[0;32m----> 1\u001b[0;31m \u001b[0;32mimport\u001b[0m \u001b[0mcmtutils\u001b[0m\u001b[0;34m\u001b[0m\u001b[0;34m\u001b[0m\u001b[0m\n\u001b[0m\u001b[1;32m      2\u001b[0m \u001b[0;32mimport\u001b[0m \u001b[0mos\u001b[0m\u001b[0;34m\u001b[0m\u001b[0;34m\u001b[0m\u001b[0m\n\u001b[1;32m      3\u001b[0m \u001b[0;32mimport\u001b[0m \u001b[0mpandas\u001b[0m \u001b[0;32mas\u001b[0m \u001b[0mpd\u001b[0m\u001b[0;34m\u001b[0m\u001b[0;34m\u001b[0m\u001b[0m\n\u001b[1;32m      4\u001b[0m \u001b[0;32mimport\u001b[0m \u001b[0mnumpy\u001b[0m \u001b[0;32mas\u001b[0m \u001b[0mnp\u001b[0m\u001b[0;34m\u001b[0m\u001b[0;34m\u001b[0m\u001b[0m\n\u001b[1;32m      5\u001b[0m \u001b[0;32mimport\u001b[0m \u001b[0mGPy\u001b[0m\u001b[0;34m\u001b[0m\u001b[0;34m\u001b[0m\u001b[0m\n",
      "\u001b[0;32m~/sods/conference/cmtutils.py\u001b[0m in \u001b[0;36m<module>\u001b[0;34m\u001b[0m\n\u001b[1;32m   1195\u001b[0m \u001b[0;34m\u001b[0m\u001b[0m\n\u001b[1;32m   1196\u001b[0m \u001b[0;34m\u001b[0m\u001b[0m\n\u001b[0;32m-> 1197\u001b[0;31m \u001b[0;32mclass\u001b[0m \u001b[0mdrive_store\u001b[0m\u001b[0;34m(\u001b[0m\u001b[0mpods\u001b[0m\u001b[0;34m.\u001b[0m\u001b[0mgoogle\u001b[0m\u001b[0;34m.\u001b[0m\u001b[0msheet\u001b[0m\u001b[0;34m,\u001b[0m \u001b[0mReadReviewer\u001b[0m\u001b[0;34m)\u001b[0m\u001b[0;34m:\u001b[0m\u001b[0;34m\u001b[0m\u001b[0;34m\u001b[0m\u001b[0m\n\u001b[0m\u001b[1;32m   1198\u001b[0m     \u001b[0;32mdef\u001b[0m \u001b[0m__init__\u001b[0m\u001b[0;34m(\u001b[0m\u001b[0mself\u001b[0m\u001b[0;34m,\u001b[0m \u001b[0mresource\u001b[0m\u001b[0;34m,\u001b[0m \u001b[0mworksheet_name\u001b[0m\u001b[0;34m)\u001b[0m\u001b[0;34m:\u001b[0m\u001b[0;34m\u001b[0m\u001b[0;34m\u001b[0m\u001b[0m\n\u001b[1;32m   1199\u001b[0m         \u001b[0mpods\u001b[0m\u001b[0;34m.\u001b[0m\u001b[0mgoogle\u001b[0m\u001b[0;34m.\u001b[0m\u001b[0msheet\u001b[0m\u001b[0;34m.\u001b[0m\u001b[0m__init__\u001b[0m\u001b[0;34m(\u001b[0m\u001b[0mself\u001b[0m\u001b[0;34m,\u001b[0m \u001b[0mresource\u001b[0m\u001b[0;34m=\u001b[0m\u001b[0mresource\u001b[0m\u001b[0;34m,\u001b[0m \u001b[0mworksheet_name\u001b[0m\u001b[0;34m=\u001b[0m\u001b[0mworksheet_name\u001b[0m\u001b[0;34m)\u001b[0m\u001b[0;34m\u001b[0m\u001b[0;34m\u001b[0m\u001b[0m\n",
      "\u001b[0;31mAttributeError\u001b[0m: module 'pods.google' has no attribute 'sheet'"
     ]
    }
   ],
   "source": [
    "import cmtutils\n",
    "import os\n",
    "import pandas as pd\n",
    "import numpy as np\n",
    "import GPy\n",
    "from scipy.sparse.csgraph import connected_components\n",
    "from scipy.linalg import solve_triangular \n",
    "\n",
    "date = '2014-09-06'"
   ]
  },
  {
   "cell_type": "markdown",
   "metadata": {},
   "source": [
    "## Loading in the Data"
   ]
  },
  {
   "cell_type": "code",
   "execution_count": 2,
   "metadata": {},
   "outputs": [],
   "source": [
    "filename = date + '_reviews.xls'\n",
    "reviews = cmtutils.cmt_reviews_read(filename=filename)\n",
    "papers = list(sorted(set(reviews.reviews.index), key=int))\n",
    "reviews.reviews = reviews.reviews.loc[papers]"
   ]
  },
  {
   "cell_type": "markdown",
   "metadata": {},
   "source": [
    "The maximum likelihood solution for $\\mu$ is simply the mean quality of the papers, this is easily computed."
   ]
  },
  {
   "cell_type": "code",
   "execution_count": 3,
   "metadata": {},
   "outputs": [
    {
     "name": "stdout",
     "output_type": "stream",
     "text": [
      "Mean value, mu =  5.20086783583\n"
     ]
    }
   ],
   "source": [
    "mu = reviews.reviews.Quality.mean()\n",
    "print(\"Mean value, mu = \", mu)"
   ]
  },
  {
   "cell_type": "markdown",
   "metadata": {},
   "source": [
    "## Data Preparation\n",
    "\n",
    "We take the reviews, which are indexed by the paper number, and create a new data frame, that indexes by paper id and email combined. From these reviews we tokenize the `PaperID` and the `Email` to extract two matrices that can be used in creation of covariance matrices. We also create a target vector which is the mean centred vector of scores."
   ]
  },
  {
   "cell_type": "code",
   "execution_count": 4,
   "metadata": {},
   "outputs": [],
   "source": [
    "r = reviews.reviews.reset_index()\n",
    "r.rename(columns={'index':'PaperID'}, inplace=True)\n",
    "r.index = r.PaperID + '_' + r.Email\n",
    "X1 = pd.get_dummies(r.PaperID).to_sparse()\n",
    "X1 = X1[sorted(X1.columns, key=int)]\n",
    "X2 = pd.get_dummies(r.Email).to_sparse()\n",
    "X2 = X2[sorted(X2.columns, key=str.lower)]\n",
    "y = reviews.reviews.Quality - mu"
   ]
  },
  {
   "cell_type": "markdown",
   "metadata": {},
   "source": [
    "### Constructing the Model in GPy\n",
    "\n",
    "Having reduced the model to two parameters, I was hopeful I could set parameters broadly by hand. My initial expectation was that `alpha_b` and `sigma2` would both be less than 1, but some playing with parameters showed this wasn't the case. Rather than waste further time, I decided to use our [`GPy` Software](https://github.com/SheffieldML/GPy) (see below) to find a maximum likelihood solution for the parameters.\n",
    "\n",
    "Model construction firstly involves constructing covariance functions for the model and concatanating `X1` and `X2` to a new input matrix `X`."
   ]
  },
  {
   "cell_type": "code",
   "execution_count": 5,
   "metadata": {},
   "outputs": [],
   "source": [
    "X = X1.join(X2)\n",
    "kern1 = GPy.kern.Linear(input_dim=len(X1.columns), active_dims=np.arange(len(X1.columns)))\n",
    "kern1.name = 'K_f'\n",
    "kern2 = GPy.kern.Linear(input_dim=len(X2.columns), active_dims=np.arange(len(X1.columns), len(X.columns)))\n",
    "kern2.name = 'K_b'"
   ]
  },
  {
   "cell_type": "markdown",
   "metadata": {},
   "source": [
    "Next, the covariance function is used to create a Gaussian process regression model with `X` as input and `y` as target. The covariance function is given by $\\mathbf{K}_f + \\mathbf{K}_b$."
   ]
  },
  {
   "cell_type": "code",
   "execution_count": 6,
   "metadata": {},
   "outputs": [],
   "source": [
    "model = GPy.models.GPRegression(X, y[:, None], kern1+kern2)\n",
    "model.optimize()"
   ]
  },
  {
   "cell_type": "markdown",
   "metadata": {},
   "source": [
    "Now we can check the parameters of the result."
   ]
  },
  {
   "cell_type": "code",
   "execution_count": 7,
   "metadata": {},
   "outputs": [
    {
     "name": "stdout",
     "output_type": "stream",
     "text": [
      "  GP_regression.           |      Value       |  Constraint  |  Prior  |  Tied to\n",
      "  \u001b[1madd.K_f.variances      \u001b[0;0m  |   1.27823034488  |     +ve      |         |         \n",
      "  \u001b[1madd.K_b.variances      \u001b[0;0m  |  0.240009878758  |     +ve      |         |         \n",
      "  \u001b[1mGaussian_noise.variance\u001b[0;0m  |   1.26836569928  |     +ve      |         |         \n",
      "-10071.6790928\n"
     ]
    }
   ],
   "source": [
    "print model\n",
    "print model.log_likelihood()"
   ]
  },
  {
   "cell_type": "markdown",
   "metadata": {},
   "source": [
    "### Construct the Model Without GPy\n",
    "\n",
    "The answer from the GPy solution is introduced here, alongside the code where the covariance matrices are explicitly created (above they are created using GPy's high level code for kernel matrices, which may be less clear on the details)."
   ]
  },
  {
   "cell_type": "code",
   "execution_count": 8,
   "metadata": {},
   "outputs": [],
   "source": [
    "# set parameter values to ML solutions given by GPy.\n",
    "alpha_f = model.add.K_f.variances\n",
    "alpha_b = model.add.K_b.variances/alpha_f\n",
    "sigma2 = model.Gaussian_noise.variance/alpha_f"
   ]
  },
  {
   "cell_type": "markdown",
   "metadata": {},
   "source": [
    "Now we create the covariance functions based on the tokenized paper IDs and emails."
   ]
  },
  {
   "cell_type": "code",
   "execution_count": 9,
   "metadata": {},
   "outputs": [],
   "source": [
    "K_f = np.dot(X1, X1.T)\n",
    "K_b = alpha_b*np.dot(X2, X2.T)\n",
    "K = K_f + K_b + sigma2*np.eye(X2.shape[0])\n",
    "Kinv, L, Li, logdet = GPy.util.linalg.pdinv(K) # since we have GPy loaded in use their positive definite inverse.\n",
    "y = reviews.reviews.Quality - mu\n",
    "alpha = np.dot(Kinv, y)\n",
    "yTKinvy = np.dot(y, alpha)\n",
    "alpha_f = yTKinvy/len(y)"
   ]
  },
  {
   "cell_type": "markdown",
   "metadata": {},
   "source": [
    "Since we have removed the data mean, the log likelihood we are interested in is the likelihood of a multivariate Gaussian with covariance $\\mathbf{K}$ and mean zero. This is computed below."
   ]
  },
  {
   "cell_type": "code",
   "execution_count": 10,
   "metadata": {},
   "outputs": [
    {
     "name": "stdout",
     "output_type": "stream",
     "text": [
      "negative log likelihood:  10071.6790928\n"
     ]
    }
   ],
   "source": [
    "ll = 0.5*len(y)*np.log(2*np.pi*alpha_f) + 0.5*logdet + 0.5*yTKinvy/alpha_f \n",
    "print \"negative log likelihood: \", ll"
   ]
  },
  {
   "cell_type": "markdown",
   "metadata": {},
   "source": [
    "Now we wish to predict the bias corrected scores for the papers. That involves considering a variable $s_{i,j} = f_i + e_{i,j}$ which is the score with the bias removed. That variable has a covariance matrix, $\\mathbf{K}_s=\\mathbf{K}_f + \\sigma^2 \\mathbf{I}$ and a cross covariance between $\\mathbf{y}$ and $\\mathbf{s}$ is also given by $\\mathbf{K}_s$. This means we can compute the posterior distribution of the scores as follows:"
   ]
  },
  {
   "cell_type": "code",
   "execution_count": 11,
   "metadata": {},
   "outputs": [],
   "source": [
    "# Compute mean and covariance of quality scores\n",
    "K_s = K_f + np.eye(K_f.shape[0])*sigma2\n",
    "s = pd.Series(np.dot(K_s, alpha) + mu, index=X1.index)\n",
    "covs = alpha_f*(K_s - np.dot(K_s, np.dot(Kinv, K_s)))"
   ]
  },
  {
   "cell_type": "markdown",
   "metadata": {},
   "source": [
    "### Monte Carlo Simulations for Probability of Acceptance\n",
    "\n",
    "We can now sample from this posterior distribution of bias-adjusted scores jointly, to get a set of scores for all papers. For this set of scores we can perform a ranking and accept the top 400 papers. This gives us a sampled conference. If we do that 1,000 times then we can see how many times each paper was accepted to get a probability of acceptance."
   ]
  },
  {
   "cell_type": "code",
   "execution_count": 12,
   "metadata": {},
   "outputs": [],
   "source": [
    "number_accepts = 420 # 440 because of the 10% replication"
   ]
  },
  {
   "cell_type": "code",
   "execution_count": 13,
   "metadata": {},
   "outputs": [],
   "source": [
    "# place this in a separate box, because sampling can take a while.\n",
    "score = np.random.multivariate_normal(mean=s, cov=covs, size=1000).T\n",
    "# Use X1 which maps papers to paper/reviewer pairings to get the average score for each paper.\n",
    "paper_score = pd.DataFrame(np.dot(np.diag(1./X1.sum(0)), np.dot(X1.T, score)), index=X1.columns)"
   ]
  },
  {
   "cell_type": "markdown",
   "metadata": {},
   "source": [
    "Now we can compute the probability of acceptance for each of the sampled rankings. "
   ]
  },
  {
   "cell_type": "code",
   "execution_count": 14,
   "metadata": {},
   "outputs": [],
   "source": [
    "prob_accept = ((paper_score>paper_score.quantile(1-(float(number_accepts)/paper_score.shape[0]))).sum(1)/1000)\n",
    "prob_accept.name = 'AcceptProbability'"
   ]
  },
  {
   "cell_type": "markdown",
   "metadata": {},
   "source": [
    "Now we have the probability of accepts, we can decide on the boundaries of the grey area. These are set in `lower` and `upper`. The grey area is those papers that will be debated most heavily during the teleconferences between program chairs and area chairs. "
   ]
  },
  {
   "cell_type": "code",
   "execution_count": 15,
   "metadata": {},
   "outputs": [
    {
     "name": "stdout",
     "output_type": "stream",
     "text": [
      "Number of papers in grey area: 223\n"
     ]
    }
   ],
   "source": [
    "lower=0.1\n",
    "upper=0.9\n",
    "grey_area = ((prob_accept>lower) & (prob_accept<upper))\n",
    "print 'Number of papers in grey area:', grey_area.sum()"
   ]
  },
  {
   "cell_type": "code",
   "execution_count": 16,
   "metadata": {},
   "outputs": [
    {
     "name": "stdout",
     "output_type": "stream",
     "text": [
      "Expected Papers Accepted: 420.0\n"
     ]
    },
    {
     "data": {
      "text/plain": [
       "<matplotlib.axes.AxesSubplot at 0x11a07b050>"
      ]
     },
     "execution_count": 16,
     "metadata": {},
     "output_type": "execute_result"
    },
    {
     "data": {
      "image/png": "[encoded data removed]",
      "text/plain": [
       "<matplotlib.figure.Figure at 0x11926f290>"
      ]
     },
     "metadata": {},
     "output_type": "display_data"
    }
   ],
   "source": [
    "%matplotlib inline\n",
    "import pylab as plt\n",
    "print 'Expected Papers Accepted:', prob_accept.sum()\n",
    "prob_accept.hist(bins=40)"
   ]
  },
  {
   "cell_type": "markdown",
   "metadata": {},
   "source": [
    "## Some Sanity Histograms\n",
    "\n",
    "Here is the histogram of the reviewer scores after calibration."
   ]
  },
  {
   "cell_type": "code",
   "execution_count": 17,
   "metadata": {},
   "outputs": [
    {
     "data": {
      "text/plain": [
       "<matplotlib.text.Text at 0x117d79950>"
      ]
     },
     "execution_count": 17,
     "metadata": {},
     "output_type": "execute_result"
    },
    {
     "data": {
      "image/png": "[encoded data removed]",
      "text/plain": [
       "<matplotlib.figure.Figure at 0x1192b3d90>"
      ]
     },
     "metadata": {},
     "output_type": "display_data"
    }
   ],
   "source": [
    "s.hist(bins=100)\n",
    "plt.title('Calibrated Reviewer Scores')"
   ]
  },
  {
   "cell_type": "markdown",
   "metadata": {},
   "source": [
    "### Adjustments to Reviewer Scores\n",
    "\n",
    "We can also compute the posterior distribution for the adjustments to the reviewer scores."
   ]
  },
  {
   "cell_type": "code",
   "execution_count": 18,
   "metadata": {},
   "outputs": [],
   "source": [
    "# Compute mean and covariance of review biases\n",
    "b = pd.Series(np.dot(K_b, alpha), index=X2.index)\n",
    "covb = alpha_f*(K_b - np.dot(K_b, np.dot(Kinv, K_b)))"
   ]
  },
  {
   "cell_type": "code",
   "execution_count": 19,
   "metadata": {},
   "outputs": [],
   "source": [
    "reviewer_bias = pd.Series(np.dot(np.diag(1./X2.sum(0)), np.dot(X2.T, b)), index=X2.columns, name='ReviewerBiasMean')\n",
    "reviewer_bias_std = pd.Series(np.dot(np.diag(1./X2.sum(0)), np.dot(X2.T, np.sqrt(np.diag(covb)))), index=X2.columns, name='ReviewerBiasStd')"
   ]
  },
  {
   "cell_type": "markdown",
   "metadata": {},
   "source": [
    "Here is a histogram of the mean adjustment for the reviewers."
   ]
  },
  {
   "cell_type": "code",
   "execution_count": 20,
   "metadata": {},
   "outputs": [
    {
     "data": {
      "text/plain": [
       "<matplotlib.text.Text at 0x11a3d6dd0>"
      ]
     },
     "execution_count": 20,
     "metadata": {},
     "output_type": "execute_result"
    },
    {
     "data": {
      "image/png": "[encoded data removed]",
      "text/plain": [
       "<matplotlib.figure.Figure at 0x117d79f50>"
      ]
     },
     "metadata": {},
     "output_type": "display_data"
    }
   ],
   "source": [
    "reviewer_bias.hist(bins=100)\n",
    "plt.title('Reviewer Calibration Adjustments Histogram')"
   ]
  },
  {
   "cell_type": "markdown",
   "metadata": {},
   "source": [
    "Export a version of the bias scores for use in CMT."
   ]
  },
  {
   "cell_type": "code",
   "execution_count": 21,
   "metadata": {},
   "outputs": [],
   "source": [
    "bias_export = pd.DataFrame(data={'Quality Score - Does the paper deserves to be published?':reviewer_bias, \n",
    "                   'Impact Score - Independently of the Quality Score above, this is your opportunity to identify papers that are very different, original, or otherwise potentially impactful for the NIPS community.':pd.Series(np.zeros(len(reviewer_bias)), index=reviewer_bias.index),\n",
    "                    'Confidence':pd.Series(np.zeros(len(reviewer_bias)), index=reviewer_bias.index)})\n",
    "cols = bias_export.columns.tolist()\n",
    "cols = [cols[2], cols[1], cols[0]]\n",
    "bias_export = bias_export[cols]\n",
    "bias_export.to_csv(os.path.join(cmtutils.cmt_data_directory, 'reviewer_bias.csv'), sep='\\t', header=True, index_label='Reviewer Email')"
   ]
  },
  {
   "cell_type": "markdown",
   "metadata": {},
   "source": [
    "## Sanity Check\n",
    "\n",
    "As a sanity check Corinna suggested it makes sense to plot the average raw score for the papers vs the probability of accept, just to ensure nothing weird is going on. To clarify the plot, I've actually plotted raw score vs log odds of accept."
   ]
  },
  {
   "cell_type": "code",
   "execution_count": 22,
   "metadata": {},
   "outputs": [
    {
     "data": {
      "text/plain": [
       "<matplotlib.text.Text at 0x11c6c26d0>"
      ]
     },
     "execution_count": 22,
     "metadata": {},
     "output_type": "execute_result"
    },
    {
     "data": {
      "image/png": "[encoded data removed]",
      "text/plain": [
       "<matplotlib.figure.Figure at 0x10f8876d0>"
      ]
     },
     "metadata": {},
     "output_type": "display_data"
    }
   ],
   "source": [
    "raw_score = pd.DataFrame(np.dot(np.diag(1./X1.sum(0)), np.dot(X1.T, r.Quality)), index=X1.columns)\n",
    "plt.plot(raw_score, np.log(prob_accept)- np.log(1-prob_accept), 'rx')\n",
    "plt.title('Raw Score vs Log odds of accept')\n",
    "plt.xlabel('raw score')\n",
    "plt.ylabel('log odds of accept')"
   ]
  },
  {
   "cell_type": "code",
   "execution_count": 23,
   "metadata": {},
   "outputs": [],
   "source": [
    "s.name = 'CalibratedQuality'\n",
    "r = r.join(s)"
   ]
  },
  {
   "cell_type": "markdown",
   "metadata": {},
   "source": [
    "We can also look at a scatter plot of the review quality vs the calibrated quality."
   ]
  },
  {
   "cell_type": "code",
   "execution_count": 24,
   "metadata": {},
   "outputs": [
    {
     "data": {
      "text/plain": [
       "<matplotlib.text.Text at 0x11cf868d0>"
      ]
     },
     "execution_count": 24,
     "metadata": {},
     "output_type": "execute_result"
    },
    {
     "data": {
      "image/png": "[encoded data removed]",
      "text/plain": [
       "<matplotlib.figure.Figure at 0x10f892e90>"
      ]
     },
     "metadata": {},
     "output_type": "display_data"
    }
   ],
   "source": [
    "plt.plot(r.Quality, r.CalibratedQuality, 'rx')\n",
    "plt.xlim([0, 11])\n",
    "plt.xlabel('original review score')\n",
    "plt.ylabel('calibrated review score')"
   ]
  },
  {
   "cell_type": "markdown",
   "metadata": {},
   "source": [
    "## Duplicate Papers\n",
    "\n",
    "For NIPS 2014 we experimented with duplicate papers: we pushed papers through the system twice, exposing them to different subsets of the reviewers. The first thing we'll look at is the duplicate papers. Firstly we identify them by matching on title."
   ]
  },
  {
   "cell_type": "code",
   "execution_count": 26,
   "metadata": {},
   "outputs": [],
   "source": [
    "filename = date + '_paper_list.xls'\n",
    "papers = cmtutils.cmt_papers_read(filename=filename)\n",
    "duplicate_list = []\n",
    "for ID, title in papers.papers.Title.iteritems():\n",
    "    if int(ID)>1779 and int(ID) != 1949:\n",
    "        pair = list(papers.papers[papers.papers['Title'].str.contains(papers.papers.Title[ID].strip())].index)\n",
    "        pair.sort(key=int)\n",
    "        duplicate_list.append(pair)"
   ]
  },
  {
   "cell_type": "markdown",
   "metadata": {},
   "source": [
    "Next we compute the correlation coefficients for the duplicated papers for the average impact and quality scores."
   ]
  },
  {
   "cell_type": "code",
   "execution_count": 27,
   "metadata": {},
   "outputs": [
    {
     "name": "stdout",
     "output_type": "stream",
     "text": [
      "Quality correlation:  0.544036748626\n",
      "Calibrated Quality correlation:  0.545595861845\n",
      "Impact correlation:  0.26945269236\n",
      "Confidence correlation:  0.385425155944\n"
     ]
    }
   ],
   "source": [
    "quality = []\n",
    "calibrated_quality = []\n",
    "accept = []\n",
    "impact = []\n",
    "confidence = []\n",
    "for duplicate_pair in duplicate_list:\n",
    "    quality.append([np.mean(r[r.PaperID==duplicate_pair[0]].Quality), np.mean(r[r.PaperID==duplicate_pair[1]].Quality)])\n",
    "    calibrated_quality.append([np.mean(r[r.PaperID==duplicate_pair[0]].CalibratedQuality), np.mean(r[r.PaperID==duplicate_pair[1]].CalibratedQuality)])\n",
    "    impact.append([np.mean(r[r.PaperID==duplicate_pair[0]].Impact), np.mean(r[r.PaperID==duplicate_pair[1]].Impact)])\n",
    "    confidence.append([np.mean(r[r.PaperID==duplicate_pair[0]].Conf), np.mean(r[r.PaperID==duplicate_pair[1]].Conf)])\n",
    "quality = np.array(quality)\n",
    "calibrated_quality = np.array(calibrated_quality)\n",
    "impact = np.array(impact)\n",
    "confidence = np.array(confidence)\n",
    "quality_cor = np.corrcoef(quality.T)[0, 1]\n",
    "calibrated_quality_cor = np.corrcoef(calibrated_quality.T)[0, 1]\n",
    "impact_cor = np.corrcoef(impact.T)[0, 1]\n",
    "confidence_cor = np.corrcoef(confidence.T)[0, 1]\n",
    "print(\"Quality correlation: \", quality_cor)\n",
    "print(\"Calibrated Quality correlation: \", calibrated_quality_cor)\n",
    "print(\"Impact correlation: \", impact_cor)\n",
    "print(\"Confidence correlation: \", confidence_cor)"
   ]
  },
  {
   "cell_type": "markdown",
   "metadata": {},
   "source": [
    "### Correlation Plots\n",
    "\n",
    "To visualize the quality score correlation we plot the group 1 papers against the group 2 papers. Here we add a small amount of jitter to ensure points to help visualize points that would otherwise fall on the same position."
   ]
  },
  {
   "cell_type": "code",
   "execution_count": 28,
   "metadata": {},
   "outputs": [
    {
     "data": {
      "text/plain": [
       "<matplotlib.text.Text at 0x1112c8850>"
      ]
     },
     "execution_count": 28,
     "metadata": {},
     "output_type": "execute_result"
    },
    {
     "data": {
      "image/png": "[encoded data removed]",
      "text/plain": [
       "<matplotlib.figure.Figure at 0x11ed33850>"
      ]
     },
     "metadata": {},
     "output_type": "display_data"
    }
   ],
   "source": [
    "plt.plot(quality[:, 0]+np.random.randn(quality.shape[0])*0.06125, quality[:, 1]+np.random.randn(quality.shape[0])*0.06125, 'rx')\n",
    "plt.title('Quality Correlation: ' + str(quality_cor))"
   ]
  },
  {
   "cell_type": "markdown",
   "metadata": {},
   "source": [
    "Similarly for the calibrated quality of the papers."
   ]
  },
  {
   "cell_type": "code",
   "execution_count": 29,
   "metadata": {},
   "outputs": [
    {
     "data": {
      "text/plain": [
       "<matplotlib.text.Text at 0x1035b6ad0>"
      ]
     },
     "execution_count": 29,
     "metadata": {},
     "output_type": "execute_result"
    },
    {
     "data": {
      "image/png": "[encoded data removed]",
      "text/plain": [
       "<matplotlib.figure.Figure at 0x1112c66d0>"
      ]
     },
     "metadata": {},
     "output_type": "display_data"
    }
   ],
   "source": [
    "plt.plot(calibrated_quality[:, 0]+np.random.randn(calibrated_quality.shape[0])*0.06125, calibrated_quality[:, 1]+np.random.randn(calibrated_quality.shape[0])*0.06125, 'rx')\n",
    "plt.title('Calibrated Quality Correlation: ' + str(calibrated_quality_cor))"
   ]
  },
  {
   "cell_type": "code",
   "execution_count": 30,
   "metadata": {},
   "outputs": [],
   "source": [
    "# Apply Laplace smoothing to accept probabilities before incorporating them.\n",
    "revs = r.join((prob_accept+0.0002)/1.001, on='PaperID').join(reviewer_bias, on='Email').join(papers.papers['Number Of Discussions'], on='PaperID').join(reviewer_bias_std, on='Email').sort(columns=['AcceptProbability','PaperID', 'CalibratedQuality'], ascending=False)\n",
    "revs.set_index(['PaperID'], inplace=True)\n",
    "def len_comments(x):\n",
    "    return len(x.Comments)\n",
    "revs['comment_length']=revs.apply(len_comments, axis=1)\n",
    "# Save the computed information to disk\n",
    "revs.to_csv(os.path.join(cmtutils.cmt_data_directory, date + '_processed_reviews.csv'), encoding='utf-8')"
   ]
  },
  {
   "cell_type": "code",
   "execution_count": null,
   "metadata": {},
   "outputs": [],
   "source": []
  },
  {
   "cell_type": "code",
   "execution_count": null,
   "metadata": {},
   "outputs": [],
   "source": []
  }
 ],
 "metadata": {
  "kernelspec": {
   "display_name": "Python 3",
   "language": "python",
   "name": "python3"
  },
  "language_info": {
   "codemirror_mode": {
    "name": "ipython",
    "version": 3
   },
   "file_extension": ".py",
   "mimetype": "text/x-python",
   "name": "python",
   "nbconvert_exporter": "python",
   "pygments_lexer": "ipython3",
   "version": "3.6.10"
  }
 },
 "nbformat": 4,
 "nbformat_minor": 1
}
