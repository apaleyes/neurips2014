{
 "cells": [
  {
   "cell_type": "markdown",
   "metadata": {},
   "source": [
    "## Reviewer Calibration\n",
    "\n",
    "### 30th July 2014 Neil D. Lawrence\n",
    "\n",
    "In this note book we deal with reviewer calibration. Our assumption is that the score from the $j$th reviwer for the $i$th paper is given by\n",
    "$$\n",
    "y_{i,j} = f_i + b_j + \\epsilon_{i, j}\n",
    "$$\n",
    "where $f_i$ is the 'objective quality' of paper $i$ and $b_j$ is an offset associated with reviewer $j$. $\\epsilon_{i,j}$ is a subjective quality estimate which reflects how a specific reviewer's opinion differs from other reviewers (such differences in opinion may be due to differing expertise or perspective). The underlying 'objective quality' of the paper  is assumed to be the same for all reviewers and the reviewer offset is assumed to be the same for all papers.\n",
    "\n",
    "If we have $n$ papers and $m$ reviewers then this implies $n$ + $m$ + $nm$ values need to be estimated. Naturally this is too many, and we can start by assuming that the subjective quality is drawn from a normal density with variance $\\sigma^2$\n",
    "$$\n",
    "\\epsilon_{i, j} \\sim N(0, \\sigma^2 \\mathbf{I})\n",
    "$$\n",
    "which reduces us to $n$ + $m$ + 1 parameters. Further we can assume that the objective quality is also normally distributed with mean $\\mu$ and variance $\\alpha_f$, \n",
    "$$\n",
    "f_i \\sim N(\\mu, \\alpha_f)\n",
    "$$\n",
    "this now reduces us to $m$+3 parameters. However, we only have approximately $4m$ observations (4 papers per reviewer) so parameters may still not be that well determined (particularly for those reviewers that have only one review). We therefore, finally, assume that reviewer offset is normally distributed with zero mean, \n",
    "$$\n",
    "b_j \\sim N(0, \\alpha_b),\n",
    "$$\n",
    "leaving us only four parameters: $\\mu$, $\\sigma^2$, $\\alpha_f$ and $\\alpha_b$. Combined together these three assumptions imply that\n",
    "$$\n",
    "\\mathbf{y} \\sim N(\\mu \\mathbf{1}, \\mathbf{K})\n",
    "$$\n",
    "where $\\mathbf{y}$ is a vector of stacked scores $\\mathbf{1}$ is the vector of ones and the elements of the covariance function are given by\n",
    "$$\n",
    "k(i,j; k,l) = \\delta_{i,k} \\alpha_f + \\delta_{j,l} \\alpha_b + \\delta_{i, k}\\delta_{j,l} \\sigma^2\n",
    "$$\n",
    "where $i$ and $j$ are the index of first paper and reviewer and $k$ and $l$ are the index of second paper and reviewer.\n",
    "The mean is easily estimated by maximum likelihood, and is given as the mean of all scores. \n",
    "\n",
    "It is convenient to reparameterize slightly into an overall scale $\\alpha_f$, and normalized variance parameters,\n",
    "$$\n",
    "k(i,j; k,l) = \\alpha_f(\\delta_{i,k}  + \\delta_{j,l} \\frac{\\alpha_b}{\\alpha_f} + \\delta_{i, k}\\delta_{j,l} \\frac{\\sigma^2}{\\alpha_f})\n",
    "$$\n",
    "which we rewrite to give two ratios: offset/signal ratio, $\\hat{\\alpha}_b$ and noise/signal $\\hat{\\sigma}^2$ ratio. \n",
    "$$\n",
    "k(i,j; k,l) = \\alpha_f(\\delta_{i,k}  + \\delta_{j,l} \\hat{\\alpha}_b + \\delta_{i, k}\\delta_{j,l} \\hat{\\sigma}^2)\n",
    "$$\n",
    "The advantage of this parameterization is it allows us to optimize $\\alpha_f$ directly (with a fixed point equation) and it will be very well determined. This leaves us with two free parameters, that we can explore on the grid. It is in these parameters that we expect the remaining underdetermindness of the model. We expect $\\alpha_f$ to be well determined because the negative log likelihood is now\n",
    "$$\n",
    "\\frac{|\\mathbf{y}|}{2}\\log\\alpha_f + \\frac{1}{2}\\log  \\left|\\hat{\\mathbf{K}}\\right| + \\frac{1}{2\\alpha_f}\\mathbf{y}^\\top \\hat{\\mathbf{K}}^{-1} \\mathbf{y}\n",
    "$$\n",
    "where $|\\mathbf{y}|$ is the length of $\\mathbf{y}$ (i.e. the number of reviews) and $\\hat{\\mathbf{K}}=\\alpha_f^{-1}\\mathbf{K}$ is the scale normalised covariance. This negative log likelihood is easily minimized to recover\n",
    "$$\n",
    "\\alpha_f = \\frac{1}{|\\mathbf{y}|} \\mathbf{y}^\\top \\hat{\\mathbf{K}}^{-1} \\mathbf{y}\n",
    "$$\n",
    "A Bayesian analysis of this parameter is possible with gamma priors, but it would merely shows that this parameter is extremely well determined (the degrees of freedom parameter of the associated Student-$t$ marginal likelihood scales will the number of reviews, which will be around $|\\mathbf{y}| \\approx 6,000$ in our case.\n",
    "\n",
    "So, we propose to proceed as follows. Set the mean from the reviews ($\\mu$) and then choose a two dimensional grid of parameters for reviewer offset and diversity. For each parameter choice, optimize to find $\\alpha_f$ and then evaluate the liklihood. Worst case this will require us inverting $\\hat{\\mathbf{K}}$, but if the reviewer paper groups are disconnected, it can be done a lot quicker. Next stage is to load in the reviews for analysis."
   ]
  },
  {
   "cell_type": "code",
   "execution_count": null,
   "metadata": {},
   "outputs": [],
   "source": [
    "import urllib.request\n",
    "urllib.request.urlretrieve('https://raw.githubusercontent.com/sods/conference/master/cmtutils.py','cmtutils.py')"
   ]
  },
  {
   "cell_type": "code",
   "execution_count": null,
   "metadata": {},
   "outputs": [],
   "source": [
    "%pip install gpy\n",
    "%pip install --upgrade git+https://github.com/sods/ods"
   ]
  },
  {
   "cell_type": "code",
   "execution_count": 5,
   "metadata": {},
   "outputs": [],
   "source": [
    "import cmtutils\n",
    "import os\n",
    "import pandas as pd\n",
    "import numpy as np\n",
    "import GPy\n",
    "from scipy.sparse.csgraph import connected_components\n",
    "from scipy.linalg import solve_triangular \n",
    "\n",
    "date = '2014-09-06'"
   ]
  },
  {
   "cell_type": "markdown",
   "metadata": {},
   "source": [
    "## Loading in the Data"
   ]
  },
  {
   "cell_type": "code",
   "execution_count": 6,
   "metadata": {},
   "outputs": [],
   "source": [
    "filename = date + '_reviews.xls'\n",
    "reviews = cmtutils.cmt_reviews_read(filename=filename)\n",
    "papers = list(sorted(set(reviews.reviews.index), key=int))\n",
    "reviews.reviews = reviews.reviews.loc[papers]"
   ]
  },
  {
   "cell_type": "markdown",
   "metadata": {},
   "source": [
    "The maximum likelihood solution for $\\mu$ is simply the mean quality of the papers, this is easily computed."
   ]
  },
  {
   "cell_type": "code",
   "execution_count": 7,
   "metadata": {},
   "outputs": [
    {
     "name": "stdout",
     "output_type": "stream",
     "text": [
      "Mean value, mu =  5.200867835834388\n"
     ]
    }
   ],
   "source": [
    "mu = reviews.reviews.Quality.mean()\n",
    "print(\"Mean value, mu = \", mu)"
   ]
  },
  {
   "cell_type": "markdown",
   "metadata": {},
   "source": [
    "## Data Preparation\n",
    "\n",
    "We take the reviews, which are indexed by the paper number, and create a new data frame, that indexes by paper id and email combined. From these reviews we tokenize the `PaperID` and the `Email` to extract two matrices that can be used in creation of covariance matrices. We also create a target vector which is the mean centred vector of scores."
   ]
  },
  {
   "cell_type": "code",
   "execution_count": 16,
   "metadata": {},
   "outputs": [],
   "source": [
    "r = reviews.reviews.reset_index()\n",
    "r.rename(columns={'ID':'PaperID'}, inplace=True)\n",
    "r.index = r.PaperID + '_' + r.Email\n",
    "X1 = pd.get_dummies(r.PaperID)\n",
    "X1 = X1[sorted(X1.columns, key=int)]\n",
    "X2 = pd.get_dummies(r.Email)\n",
    "X2 = X2[sorted(X2.columns, key=str.lower)]\n",
    "y = reviews.reviews.Quality - mu"
   ]
  },
  {
   "cell_type": "markdown",
   "metadata": {},
   "source": [
    "### Constructing the Model in GPy\n",
    "\n",
    "Having reduced the model to two parameters, I was hopeful I could set parameters broadly by hand. My initial expectation was that `alpha_b` and `sigma2` would both be less than 1, but some playing with parameters showed this wasn't the case. Rather than waste further time, I decided to use our [`GPy` Software](https://github.com/SheffieldML/GPy) (see below) to find a maximum likelihood solution for the parameters.\n",
    "\n",
    "Model construction firstly involves constructing covariance functions for the model and concatanating `X1` and `X2` to a new input matrix `X`."
   ]
  },
  {
   "cell_type": "code",
   "execution_count": 17,
   "metadata": {},
   "outputs": [],
   "source": [
    "X = X1.join(X2)\n",
    "kern1 = GPy.kern.Linear(input_dim=len(X1.columns), active_dims=np.arange(len(X1.columns)))\n",
    "kern1.name = 'K_f'\n",
    "kern2 = GPy.kern.Linear(input_dim=len(X2.columns), active_dims=np.arange(len(X1.columns), len(X.columns)))\n",
    "kern2.name = 'K_b'"
   ]
  },
  {
   "cell_type": "markdown",
   "metadata": {},
   "source": [
    "Next, the covariance function is used to create a Gaussian process regression model with `X` as input and `y` as target. The covariance function is given by $\\mathbf{K}_f + \\mathbf{K}_b$."
   ]
  },
  {
   "cell_type": "code",
   "execution_count": 18,
   "metadata": {},
   "outputs": [
    {
     "data": {
      "text/plain": [
       "<paramz.optimization.optimization.opt_lbfgsb at 0x1a18d2be80>"
      ]
     },
     "execution_count": 18,
     "metadata": {},
     "output_type": "execute_result"
    }
   ],
   "source": [
    "model = GPy.models.GPRegression(X, y[:, None], kern1+kern2)\n",
    "model.optimize()"
   ]
  },
  {
   "cell_type": "markdown",
   "metadata": {},
   "source": [
    "Now we can check the parameters of the result."
   ]
  },
  {
   "cell_type": "code",
   "execution_count": 20,
   "metadata": {},
   "outputs": [
    {
     "name": "stdout",
     "output_type": "stream",
     "text": [
      "\n",
      "Name : GP regression\n",
      "Objective : 10071.679092815619\n",
      "Number of Parameters : 3\n",
      "Number of Optimization Parameters : 3\n",
      "Updates : True\n",
      "Parameters:\n",
      "  \u001b[1mGP_regression.         \u001b[0;0m  |               value  |  constraints  |  priors\n",
      "  \u001b[1msum.K_f.variances      \u001b[0;0m  |  1.2782303448777643  |      +ve      |        \n",
      "  \u001b[1msum.K_b.variances      \u001b[0;0m  |  0.2400098787580176  |      +ve      |        \n",
      "  \u001b[1mGaussian_noise.variance\u001b[0;0m  |   1.268365689279675  |      +ve      |        \n",
      "-10071.679092815619\n"
     ]
    }
   ],
   "source": [
    "print(model)\n",
    "print(model.log_likelihood())"
   ]
  },
  {
   "cell_type": "markdown",
   "metadata": {},
   "source": [
    "### Construct the Model Without GPy\n",
    "\n",
    "The answer from the GPy solution is introduced here, alongside the code where the covariance matrices are explicitly created (above they are created using GPy's high level code for kernel matrices, which may be less clear on the details)."
   ]
  },
  {
   "cell_type": "code",
   "execution_count": 22,
   "metadata": {},
   "outputs": [],
   "source": [
    "# set parameter values to ML solutions given by GPy.\n",
    "alpha_f = model.sum.K_f.variances\n",
    "alpha_b = model.sum.K_b.variances/alpha_f\n",
    "sigma2 = model.Gaussian_noise.variance/alpha_f"
   ]
  },
  {
   "cell_type": "markdown",
   "metadata": {},
   "source": [
    "Now we create the covariance functions based on the tokenized paper IDs and emails."
   ]
  },
  {
   "cell_type": "code",
   "execution_count": 23,
   "metadata": {},
   "outputs": [],
   "source": [
    "K_f = np.dot(X1, X1.T)\n",
    "K_b = alpha_b*np.dot(X2, X2.T)\n",
    "K = K_f + K_b + sigma2*np.eye(X2.shape[0])\n",
    "Kinv, L, Li, logdet = GPy.util.linalg.pdinv(K) # since we have GPy loaded in use their positive definite inverse.\n",
    "y = reviews.reviews.Quality - mu\n",
    "alpha = np.dot(Kinv, y)\n",
    "yTKinvy = np.dot(y, alpha)\n",
    "alpha_f = yTKinvy/len(y)"
   ]
  },
  {
   "cell_type": "markdown",
   "metadata": {},
   "source": [
    "Since we have removed the data mean, the log likelihood we are interested in is the likelihood of a multivariate Gaussian with covariance $\\mathbf{K}$ and mean zero. This is computed below."
   ]
  },
  {
   "cell_type": "code",
   "execution_count": 24,
   "metadata": {},
   "outputs": [
    {
     "name": "stdout",
     "output_type": "stream",
     "text": [
      "negative log likelihood:  10071.679092815586\n"
     ]
    }
   ],
   "source": [
    "ll = 0.5*len(y)*np.log(2*np.pi*alpha_f) + 0.5*logdet + 0.5*yTKinvy/alpha_f \n",
    "print(\"negative log likelihood: \", ll)"
   ]
  },
  {
   "cell_type": "markdown",
   "metadata": {},
   "source": [
    "Now we wish to predict the bias corrected scores for the papers. That involves considering a variable $s_{i,j} = f_i + e_{i,j}$ which is the score with the bias removed. That variable has a covariance matrix, $\\mathbf{K}_s=\\mathbf{K}_f + \\sigma^2 \\mathbf{I}$ and a cross covariance between $\\mathbf{y}$ and $\\mathbf{s}$ is also given by $\\mathbf{K}_s$. This means we can compute the posterior distribution of the scores as follows:"
   ]
  },
  {
   "cell_type": "code",
   "execution_count": 25,
   "metadata": {},
   "outputs": [],
   "source": [
    "# Compute mean and covariance of quality scores\n",
    "K_s = K_f + np.eye(K_f.shape[0])*sigma2\n",
    "s = pd.Series(np.dot(K_s, alpha) + mu, index=X1.index)\n",
    "covs = alpha_f*(K_s - np.dot(K_s, np.dot(Kinv, K_s)))"
   ]
  },
  {
   "cell_type": "markdown",
   "metadata": {},
   "source": [
    "### Monte Carlo Simulations for Probability of Acceptance\n",
    "\n",
    "We can now sample from this posterior distribution of bias-adjusted scores jointly, to get a set of scores for all papers. For this set of scores we can perform a ranking and accept the top 400 papers. This gives us a sampled conference. If we do that 1,000 times then we can see how many times each paper was accepted to get a probability of acceptance."
   ]
  },
  {
   "cell_type": "code",
   "execution_count": 26,
   "metadata": {},
   "outputs": [],
   "source": [
    "number_accepts = 420 # 440 because of the 10% replication"
   ]
  },
  {
   "cell_type": "code",
   "execution_count": 27,
   "metadata": {},
   "outputs": [],
   "source": [
    "# place this in a separate box, because sampling can take a while.\n",
    "score = np.random.multivariate_normal(mean=s, cov=covs, size=1000).T\n",
    "# Use X1 which maps papers to paper/reviewer pairings to get the average score for each paper.\n",
    "paper_score = pd.DataFrame(np.dot(np.diag(1./X1.sum(0)), np.dot(X1.T, score)), index=X1.columns)"
   ]
  },
  {
   "cell_type": "markdown",
   "metadata": {},
   "source": [
    "Now we can compute the probability of acceptance for each of the sampled rankings. "
   ]
  },
  {
   "cell_type": "code",
   "execution_count": 28,
   "metadata": {},
   "outputs": [],
   "source": [
    "prob_accept = ((paper_score>paper_score.quantile(1-(float(number_accepts)/paper_score.shape[0]))).sum(1)/1000)\n",
    "prob_accept.name = 'AcceptProbability'"
   ]
  },
  {
   "cell_type": "markdown",
   "metadata": {},
   "source": [
    "Now we have the probability of accepts, we can decide on the boundaries of the grey area. These are set in `lower` and `upper`. The grey area is those papers that will be debated most heavily during the teleconferences between program chairs and area chairs. "
   ]
  },
  {
   "cell_type": "code",
   "execution_count": 30,
   "metadata": {},
   "outputs": [
    {
     "name": "stdout",
     "output_type": "stream",
     "text": [
      "Number of papers in grey area: 231\n"
     ]
    }
   ],
   "source": [
    "lower=0.1\n",
    "upper=0.9\n",
    "grey_area = ((prob_accept>lower) & (prob_accept<upper))\n",
    "print('Number of papers in grey area:', grey_area.sum())"
   ]
  },
  {
   "cell_type": "code",
   "execution_count": 32,
   "metadata": {},
   "outputs": [
    {
     "name": "stdout",
     "output_type": "stream",
     "text": [
      "Expected Papers Accepted: 420.0\n"
     ]
    },
    {
     "data": {
      "text/plain": [
       "<matplotlib.axes._subplots.AxesSubplot at 0x1a190fcdd8>"
      ]
     },
     "execution_count": 32,
     "metadata": {},
     "output_type": "execute_result"
    },
    {
     "data": {
      "image/png": "[encoded data removed]",
      "text/plain": [
       "<Figure size 432x288 with 1 Axes>"
      ]
     },
     "metadata": {
      "needs_background": "light"
     },
     "output_type": "display_data"
    }
   ],
   "source": [
    "%matplotlib inline\n",
    "import pylab as plt\n",
    "print('Expected Papers Accepted:', prob_accept.sum())\n",
    "prob_accept.hist(bins=40)"
   ]
  },
  {
   "cell_type": "markdown",
   "metadata": {},
   "source": [
    "## Some Sanity Histograms\n",
    "\n",
    "Here is the histogram of the reviewer scores after calibration."
   ]
  },
  {
   "cell_type": "code",
   "execution_count": 33,
   "metadata": {},
   "outputs": [
    {
     "data": {
      "text/plain": [
       "Text(0.5, 1.0, 'Calibrated Reviewer Scores')"
      ]
     },
     "execution_count": 33,
     "metadata": {},
     "output_type": "execute_result"
    },
    {
     "data": {
      "image/png": "[encoded data removed]",
      "text/plain": [
       "<Figure size 432x288 with 1 Axes>"
      ]
     },
     "metadata": {
      "needs_background": "light"
     },
     "output_type": "display_data"
    }
   ],
   "source": [
    "s.hist(bins=100)\n",
    "plt.title('Calibrated Reviewer Scores')"
   ]
  },
  {
   "cell_type": "markdown",
   "metadata": {},
   "source": [
    "### Adjustments to Reviewer Scores\n",
    "\n",
    "We can also compute the posterior distribution for the adjustments to the reviewer scores."
   ]
  },
  {
   "cell_type": "code",
   "execution_count": 34,
   "metadata": {},
   "outputs": [],
   "source": [
    "# Compute mean and covariance of review biases\n",
    "b = pd.Series(np.dot(K_b, alpha), index=X2.index)\n",
    "covb = alpha_f*(K_b - np.dot(K_b, np.dot(Kinv, K_b)))"
   ]
  },
  {
   "cell_type": "code",
   "execution_count": 35,
   "metadata": {},
   "outputs": [],
   "source": [
    "reviewer_bias = pd.Series(np.dot(np.diag(1./X2.sum(0)), np.dot(X2.T, b)), index=X2.columns, name='ReviewerBiasMean')\n",
    "reviewer_bias_std = pd.Series(np.dot(np.diag(1./X2.sum(0)), np.dot(X2.T, np.sqrt(np.diag(covb)))), index=X2.columns, name='ReviewerBiasStd')"
   ]
  },
  {
   "cell_type": "markdown",
   "metadata": {},
   "source": [
    "Here is a histogram of the mean adjustment for the reviewers."
   ]
  },
  {
   "cell_type": "code",
   "execution_count": 36,
   "metadata": {},
   "outputs": [
    {
     "data": {
      "text/plain": [
       "Text(0.5, 1.0, 'Reviewer Calibration Adjustments Histogram')"
      ]
     },
     "execution_count": 36,
     "metadata": {},
     "output_type": "execute_result"
    },
    {
     "data": {
      "image/png": "[encoded data removed]",
      "text/plain": [
       "<Figure size 432x288 with 1 Axes>"
      ]
     },
     "metadata": {
      "needs_background": "light"
     },
     "output_type": "display_data"
    }
   ],
   "source": [
    "reviewer_bias.hist(bins=100)\n",
    "plt.title('Reviewer Calibration Adjustments Histogram')"
   ]
  },
  {
   "cell_type": "markdown",
   "metadata": {},
   "source": [
    "Export a version of the bias scores for use in CMT."
   ]
  },
  {
   "cell_type": "code",
   "execution_count": 37,
   "metadata": {},
   "outputs": [],
   "source": [
    "bias_export = pd.DataFrame(data={'Quality Score - Does the paper deserves to be published?':reviewer_bias, \n",
    "                   'Impact Score - Independently of the Quality Score above, this is your opportunity to identify papers that are very different, original, or otherwise potentially impactful for the NIPS community.':pd.Series(np.zeros(len(reviewer_bias)), index=reviewer_bias.index),\n",
    "                    'Confidence':pd.Series(np.zeros(len(reviewer_bias)), index=reviewer_bias.index)})\n",
    "cols = bias_export.columns.tolist()\n",
    "cols = [cols[2], cols[1], cols[0]]\n",
    "bias_export = bias_export[cols]\n",
    "bias_export.to_csv(os.path.join(cmtutils.cmt_data_directory, 'reviewer_bias.csv'), sep='\\t', header=True, index_label='Reviewer Email')"
   ]
  },
  {
   "cell_type": "markdown",
   "metadata": {},
   "source": [
    "## Sanity Check\n",
    "\n",
    "As a sanity check Corinna suggested it makes sense to plot the average raw score for the papers vs the probability of accept, just to ensure nothing weird is going on. To clarify the plot, I've actually plotted raw score vs log odds of accept."
   ]
  },
  {
   "cell_type": "code",
   "execution_count": 38,
   "metadata": {},
   "outputs": [
    {
     "name": "stderr",
     "output_type": "stream",
     "text": [
      " /Users/neil/anaconda3/lib/python3.6/site-packages/pandas/core/series.py:679: RuntimeWarning:divide by zero encountered in log\n"
     ]
    },
    {
     "data": {
      "text/plain": [
       "Text(0, 0.5, 'log odds of accept')"
      ]
     },
     "execution_count": 38,
     "metadata": {},
     "output_type": "execute_result"
    },
    {
     "data": {
      "image/png": "[encoded data removed]",
      "text/plain": [
       "<Figure size 432x288 with 1 Axes>"
      ]
     },
     "metadata": {
      "needs_background": "light"
     },
     "output_type": "display_data"
    }
   ],
   "source": [
    "raw_score = pd.DataFrame(np.dot(np.diag(1./X1.sum(0)), np.dot(X1.T, r.Quality)), index=X1.columns)\n",
    "plt.plot(raw_score, np.log(prob_accept)- np.log(1-prob_accept), 'rx')\n",
    "plt.title('Raw Score vs Log odds of accept')\n",
    "plt.xlabel('raw score')\n",
    "plt.ylabel('log odds of accept')"
   ]
  },
  {
   "cell_type": "code",
   "execution_count": 39,
   "metadata": {},
   "outputs": [],
   "source": [
    "s.name = 'CalibratedQuality'\n",
    "r = r.join(s)"
   ]
  },
  {
   "cell_type": "markdown",
   "metadata": {},
   "source": [
    "We can also look at a scatter plot of the review quality vs the calibrated quality."
   ]
  },
  {
   "cell_type": "code",
   "execution_count": 40,
   "metadata": {},
   "outputs": [
    {
     "data": {
      "text/plain": [
       "Text(0, 0.5, 'calibrated review score')"
      ]
     },
     "execution_count": 40,
     "metadata": {},
     "output_type": "execute_result"
    },
    {
     "data": {
      "image/png": "[encoded data removed]",
      "text/plain": [
       "<Figure size 432x288 with 1 Axes>"
      ]
     },
     "metadata": {
      "needs_background": "light"
     },
     "output_type": "display_data"
    }
   ],
   "source": [
    "plt.plot(r.Quality, r.CalibratedQuality, 'rx')\n",
    "plt.xlim([0, 11])\n",
    "plt.xlabel('original review score')\n",
    "plt.ylabel('calibrated review score')"
   ]
  },
  {
   "cell_type": "markdown",
   "metadata": {},
   "source": [
    "## Duplicate Papers\n",
    "\n",
    "For NIPS 2014 we experimented with duplicate papers: we pushed papers through the system twice, exposing them to different subsets of the reviewers. The first thing we'll look at is the duplicate papers. Firstly we identify them by matching on title."
   ]
  },
  {
   "cell_type": "code",
   "execution_count": 41,
   "metadata": {},
   "outputs": [],
   "source": [
    "filename = date + '_paper_list.xls'\n",
    "papers = cmtutils.cmt_papers_read(filename=filename)\n",
    "duplicate_list = []\n",
    "for ID, title in papers.papers.Title.iteritems():\n",
    "    if int(ID)>1779 and int(ID) != 1949:\n",
    "        pair = list(papers.papers[papers.papers['Title'].str.contains(papers.papers.Title[ID].strip())].index)\n",
    "        pair.sort(key=int)\n",
    "        duplicate_list.append(pair)"
   ]
  },
  {
   "cell_type": "markdown",
   "metadata": {},
   "source": [
    "Next we compute the correlation coefficients for the duplicated papers for the average impact and quality scores."
   ]
  },
  {
   "cell_type": "code",
   "execution_count": 42,
   "metadata": {},
   "outputs": [
    {
     "name": "stdout",
     "output_type": "stream",
     "text": [
      "Quality correlation:  0.5440367486262196\n",
      "Calibrated Quality correlation:  0.5455958618174278\n",
      "Impact correlation:  0.26945269236041075\n",
      "Confidence correlation:  0.3854251559444681\n"
     ]
    }
   ],
   "source": [
    "quality = []\n",
    "calibrated_quality = []\n",
    "accept = []\n",
    "impact = []\n",
    "confidence = []\n",
    "for duplicate_pair in duplicate_list:\n",
    "    quality.append([np.mean(r[r.PaperID==duplicate_pair[0]].Quality), np.mean(r[r.PaperID==duplicate_pair[1]].Quality)])\n",
    "    calibrated_quality.append([np.mean(r[r.PaperID==duplicate_pair[0]].CalibratedQuality), np.mean(r[r.PaperID==duplicate_pair[1]].CalibratedQuality)])\n",
    "    impact.append([np.mean(r[r.PaperID==duplicate_pair[0]].Impact), np.mean(r[r.PaperID==duplicate_pair[1]].Impact)])\n",
    "    confidence.append([np.mean(r[r.PaperID==duplicate_pair[0]].Conf), np.mean(r[r.PaperID==duplicate_pair[1]].Conf)])\n",
    "quality = np.array(quality)\n",
    "calibrated_quality = np.array(calibrated_quality)\n",
    "impact = np.array(impact)\n",
    "confidence = np.array(confidence)\n",
    "quality_cor = np.corrcoef(quality.T)[0, 1]\n",
    "calibrated_quality_cor = np.corrcoef(calibrated_quality.T)[0, 1]\n",
    "impact_cor = np.corrcoef(impact.T)[0, 1]\n",
    "confidence_cor = np.corrcoef(confidence.T)[0, 1]\n",
    "print(\"Quality correlation: \", quality_cor)\n",
    "print(\"Calibrated Quality correlation: \", calibrated_quality_cor)\n",
    "print(\"Impact correlation: \", impact_cor)\n",
    "print(\"Confidence correlation: \", confidence_cor)"
   ]
  },
  {
   "cell_type": "markdown",
   "metadata": {},
   "source": [
    "### Correlation Plots\n",
    "\n",
    "To visualize the quality score correlation we plot the group 1 papers against the group 2 papers. Here we add a small amount of jitter to ensure points to help visualize points that would otherwise fall on the same position."
   ]
  },
  {
   "cell_type": "code",
   "execution_count": 43,
   "metadata": {},
   "outputs": [
    {
     "data": {
      "text/plain": [
       "Text(0.5, 1.0, 'Quality Correlation: 0.5440367486262196')"
      ]
     },
     "execution_count": 43,
     "metadata": {},
     "output_type": "execute_result"
    },
    {
     "data": {
      "image/png": "[encoded data removed]",
      "text/plain": [
       "<Figure size 432x288 with 1 Axes>"
      ]
     },
     "metadata": {
      "needs_background": "light"
     },
     "output_type": "display_data"
    }
   ],
   "source": [
    "plt.plot(quality[:, 0]+np.random.randn(quality.shape[0])*0.06125, quality[:, 1]+np.random.randn(quality.shape[0])*0.06125, 'rx')\n",
    "plt.title('Quality Correlation: ' + str(quality_cor))"
   ]
  },
  {
   "cell_type": "markdown",
   "metadata": {},
   "source": [
    "Similarly for the calibrated quality of the papers."
   ]
  },
  {
   "cell_type": "code",
   "execution_count": 44,
   "metadata": {},
   "outputs": [
    {
     "data": {
      "text/plain": [
       "Text(0.5, 1.0, 'Calibrated Quality Correlation: 0.5455958618174278')"
      ]
     },
     "execution_count": 44,
     "metadata": {},
     "output_type": "execute_result"
    },
    {
     "data": {
      "image/png": "[encoded data removed]",
      "text/plain": [
       "<Figure size 432x288 with 1 Axes>"
      ]
     },
     "metadata": {
      "needs_background": "light"
     },
     "output_type": "display_data"
    }
   ],
   "source": [
    "plt.plot(calibrated_quality[:, 0]+np.random.randn(calibrated_quality.shape[0])*0.06125, calibrated_quality[:, 1]+np.random.randn(calibrated_quality.shape[0])*0.06125, 'rx')\n",
    "plt.title('Calibrated Quality Correlation: ' + str(calibrated_quality_cor))"
   ]
  },
  {
   "cell_type": "code",
   "execution_count": 47,
   "metadata": {},
   "outputs": [],
   "source": [
    "# Apply Laplace smoothing to accept probabilities before incorporating them.\n",
    "revs = r.join((prob_accept+0.0002)/1.001, on='PaperID').join(reviewer_bias, on='Email').join(papers.papers['Number Of Discussions'], on='PaperID').join(reviewer_bias_std, on='Email').sort_values(by=['AcceptProbability','PaperID', 'CalibratedQuality'], ascending=False)\n",
    "revs.set_index(['PaperID'], inplace=True)\n",
    "def len_comments(x):\n",
    "    return len(x.Comments)\n",
    "revs['comment_length']=revs.apply(len_comments, axis=1)\n",
    "# Save the computed information to disk\n",
    "revs.to_csv(os.path.join(cmtutils.cmt_data_directory, date + '_processed_reviews.csv'), encoding='utf-8')"
   ]
  }
 ],
 "metadata": {
  "kernelspec": {
   "display_name": "Python 3",
   "language": "python",
   "name": "python3"
  },
  "language_info": {
   "codemirror_mode": {
    "name": "ipython",
    "version": 3
   },
   "file_extension": ".py",
   "mimetype": "text/x-python",
   "name": "python",
   "nbconvert_exporter": "python",
   "pygments_lexer": "ipython3",
   "version": "3.6.10"
  }
 },
 "nbformat": 4,
 "nbformat_minor": 1
}
