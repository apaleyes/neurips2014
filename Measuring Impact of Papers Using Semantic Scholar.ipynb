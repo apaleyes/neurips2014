{
 "cells": [
  {
   "cell_type": "markdown",
   "id": "1811b8a6",
   "metadata": {},
   "source": [
    "# Measure Impact using Semantic Scholar\n",
    "\n",
    "### Neil D. Lawrence 7th June 2021\n",
    "\n",
    "This notebook looks at the actual impact of the papers published using the Semantic Scholar data base for tracking citations."
   ]
  },
  {
   "cell_type": "code",
   "execution_count": null,
   "id": "894e8640",
   "metadata": {},
   "outputs": [],
   "source": [
    "%pip install semanticscholar"
   ]
  },
  {
   "cell_type": "code",
   "execution_count": null,
   "id": "209f0613",
   "metadata": {},
   "outputs": [],
   "source": [
    "import semanticscholar as sch"
   ]
  },
  {
   "cell_type": "code",
   "execution_count": null,
   "id": "e6e8a94b",
   "metadata": {},
   "outputs": [],
   "source": [
    "import cmtutils as cu"
   ]
  },
  {
   "cell_type": "code",
   "execution_count": null,
   "id": "a63c756b",
   "metadata": {},
   "outputs": [],
   "source": [
    "papers = cu.Papers()"
   ]
  },
  {
   "cell_type": "markdown",
   "id": "32866666",
   "metadata": {},
   "source": []
  },
  {
   "cell_type": "markdown",
   "id": "f03d2e66",
   "metadata": {},
   "source": [
    "https://proceedings.neurips.cc/paper/2014 "
   ]
  },
  {
   "cell_type": "code",
   "execution_count": null,
   "id": "988ebdb2",
   "metadata": {},
   "outputs": [],
   "source": []
  },
  {
   "cell_type": "code",
   "execution_count": null,
   "id": "5882330b",
   "metadata": {},
   "outputs": [],
   "source": [
    "import pandas as pd"
   ]
  },
  {
   "cell_type": "code",
   "execution_count": null,
   "id": "2baa3cbc",
   "metadata": {},
   "outputs": [],
   "source": [
    "\n",
    "id = pd.read_excel('', \n",
    "                   sheet_name=\"Semantic Impact\", \n",
    "                   converters={\"ID\" : int})\n",
    "id = id.set_index(id['ID'].apply(str))"
   ]
  },
  {
   "cell_type": "code",
   "execution_count": null,
   "id": "f93228a5",
   "metadata": {},
   "outputs": [],
   "source": [
    "id['S2CRID']"
   ]
  },
  {
   "cell_type": "code",
   "execution_count": null,
   "id": "61fb18fe",
   "metadata": {},
   "outputs": [],
   "source": [
    "import numpy as np\n",
    "paper_semantic = {}\n",
    "for index, s2crid in id['S2CRID'].items():\n",
    "    if s2crid != \"?\" and not np.isnan(s2crid):\n",
    "        paper_semantic[str(index)] = str(s2crid)"
   ]
  },
  {
   "cell_type": "code",
   "execution_count": null,
   "id": "1db1f087",
   "metadata": {},
   "outputs": [],
   "source": [
    "len(paper_semantic.keys())"
   ]
  },
  {
   "cell_type": "code",
   "execution_count": null,
   "id": "db4df096",
   "metadata": {},
   "outputs": [],
   "source": [
    "key = '1788'"
   ]
  },
  {
   "cell_type": "code",
   "execution_count": null,
   "id": "aa91d09e",
   "metadata": {},
   "outputs": [],
   "source": [
    "key not in sscholar or sscholar[key] == {}\n"
   ]
  },
  {
   "cell_type": "code",
   "execution_count": null,
   "id": "57daf11a",
   "metadata": {},
   "outputs": [],
   "source": [
    "sscholar[key] = sch.paper('CorpusID:'+paper_semantic[key], timeout=10)"
   ]
  },
  {
   "cell_type": "code",
   "execution_count": null,
   "id": "0e3bee60",
   "metadata": {},
   "outputs": [],
   "source": [
    "from requests.exceptions import ReadTimeout\n",
    "#sscholar = {}"
   ]
  },
  {
   "cell_type": "code",
   "execution_count": null,
   "id": "622dbfdd",
   "metadata": {},
   "outputs": [],
   "source": [
    "for key in paper_semantic:\n",
    "    if key not in sscholar or sscholar[key] == {}:\n",
    "        try:\n",
    "            sscholar[key] = sch.paper('CorpusID:'+paper_semantic[key], timeout=10)\n",
    "        except ReadTimeout as e:\n",
    "            key_missing.append(key)\n",
    "            print(\"Read time out for key \", key)"
   ]
  },
  {
   "cell_type": "code",
   "execution_count": null,
   "id": "8f2dc186",
   "metadata": {},
   "outputs": [],
   "source": [
    "key"
   ]
  },
  {
   "cell_type": "code",
   "execution_count": null,
   "id": "f2375c66",
   "metadata": {},
   "outputs": [],
   "source": [
    "sscholar[key]"
   ]
  },
  {
   "cell_type": "code",
   "execution_count": null,
   "id": "aa849cd3",
   "metadata": {},
   "outputs": [],
   "source": [
    "ssdf = pd.DataFrame.from_dict(sscholar, orient=\"index\")"
   ]
  },
  {
   "cell_type": "code",
   "execution_count": null,
   "id": "6f6d178a",
   "metadata": {},
   "outputs": [],
   "source": [
    "sscholar['1788'] == {}"
   ]
  },
  {
   "cell_type": "code",
   "execution_count": null,
   "id": "5ad8d7a0",
   "metadata": {},
   "outputs": [],
   "source": [
    "decisions = pd.read_excel('', sheet_name=\"Final Decisions\", converters={\"index\" : int})\n",
    "decisions = decisions.set_index(decisions['index'].apply(str))"
   ]
  },
  {
   "cell_type": "code",
   "execution_count": null,
   "id": "f2426695",
   "metadata": {},
   "outputs": [],
   "source": [
    "def avg_vals(vals):\n",
    "    if type(vals) is not str:\n",
    "        return np.NaN\n",
    "     \n",
    "    lvals = vals.split(\",\")\n",
    "    return np.mean([float(val) for val in lvals])"
   ]
  },
  {
   "cell_type": "code",
   "execution_count": null,
   "id": "8b29d0be",
   "metadata": {},
   "outputs": [],
   "source": [
    "col_list = ['quality', 'impact', 'calibrated_quality', 'confidence']\n",
    "for col in col_list:\n",
    "    decisions['average_' + col] = decisions[col].apply(avg_vals)"
   ]
  },
  {
   "cell_type": "code",
   "execution_count": null,
   "id": "dc7c4dc6",
   "metadata": {},
   "outputs": [],
   "source": [
    "joindf = decisions.join(ssdf)"
   ]
  },
  {
   "cell_type": "code",
   "execution_count": null,
   "id": "f373fca7",
   "metadata": {},
   "outputs": [],
   "source": [
    "import matplotlib.pyplot as plt"
   ]
  },
  {
   "cell_type": "code",
   "execution_count": null,
   "id": "cfc10e43",
   "metadata": {},
   "outputs": [],
   "source": [
    "plt.plot(joindf['average_impact'], np.log10(1+ joindf['numCitedBy']), 'r.')"
   ]
  },
  {
   "cell_type": "code",
   "execution_count": null,
   "id": "5fffe539",
   "metadata": {},
   "outputs": [],
   "source": [
    "plt.plot(joindf['average_calibrated_quality'], np.log10(1+ joindf['numCitedBy']), 'r.')"
   ]
  },
  {
   "cell_type": "code",
   "execution_count": null,
   "id": "6e206f58",
   "metadata": {},
   "outputs": [],
   "source": [
    "plt.plot(joindf['average_calibrated_quality'], joindf['numCitedBy'], 'r.')"
   ]
  },
  {
   "cell_type": "code",
   "execution_count": null,
   "id": "5101248c",
   "metadata": {},
   "outputs": [],
   "source": [
    "joindf['average_impact'].corr(np.log(1+joindf['numCitedBy']))"
   ]
  },
  {
   "cell_type": "code",
   "execution_count": null,
   "id": "2e700962",
   "metadata": {},
   "outputs": [],
   "source": [
    "joindf['average_calibrated_quality'].corr(np.log(1+joindf['numCitedBy']))"
   ]
  },
  {
   "cell_type": "code",
   "execution_count": null,
   "id": "f13b1a61",
   "metadata": {},
   "outputs": [],
   "source": [
    "joindf['average_quality'].corr(np.log(1+joindf['numCitedBy']))"
   ]
  },
  {
   "cell_type": "code",
   "execution_count": null,
   "id": "7fd42f4a",
   "metadata": {},
   "outputs": [],
   "source": [
    "joindf['average_confidence'].corr(np.log(1+joindf['numCitedBy']))"
   ]
  },
  {
   "cell_type": "code",
   "execution_count": null,
   "id": "4c30ca66",
   "metadata": {},
   "outputs": [],
   "source": [
    "plt.plot(joindf['average_confidence'], np.log(1+joindf['numCitedBy']), 'r.')"
   ]
  },
  {
   "cell_type": "code",
   "execution_count": null,
   "id": "e81c5d5f",
   "metadata": {},
   "outputs": [],
   "source": [
    "np.log10(1+ joindf['numCitedBy']).hist(bins=100)"
   ]
  },
  {
   "cell_type": "code",
   "execution_count": null,
   "id": "1c1541ea",
   "metadata": {},
   "outputs": [],
   "source": [
    "joindf['numCitedBy']['1313']"
   ]
  },
  {
   "cell_type": "code",
   "execution_count": null,
   "id": "31f41cd6",
   "metadata": {},
   "outputs": [],
   "source": [
    "joindf['numCitedBy'].isna()"
   ]
  },
  {
   "cell_type": "code",
   "execution_count": null,
   "id": "289ba7c5",
   "metadata": {},
   "outputs": [],
   "source": [
    "papers.papers.loc['423']"
   ]
  },
  {
   "cell_type": "code",
   "execution_count": null,
   "id": "88f51cb9",
   "metadata": {},
   "outputs": [],
   "source": [
    "import googoal"
   ]
  },
  {
   "cell_type": "code",
   "execution_count": null,
   "id": "6fbe9a2e",
   "metadata": {},
   "outputs": [],
   "source": []
  }
 ],
 "metadata": {
  "kernelspec": {
   "display_name": "Python 3",
   "language": "python",
   "name": "python3"
  },
  "language_info": {
   "codemirror_mode": {
    "name": "ipython",
    "version": 3
   },
   "file_extension": ".py",
   "mimetype": "text/x-python",
   "name": "python",
   "nbconvert_exporter": "python",
   "pygments_lexer": "ipython3",
   "version": "3.8.8"
  }
 },
 "nbformat": 4,
 "nbformat_minor": 5
}
