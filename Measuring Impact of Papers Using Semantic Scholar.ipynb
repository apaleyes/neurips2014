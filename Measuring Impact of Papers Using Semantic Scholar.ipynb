{
 "cells": [
  {
   "cell_type": "markdown",
   "id": "ea3c8bb1",
   "metadata": {},
   "source": [
    "# Measure Impact using Semantic Scholar\n",
    "\n",
    "### Neil D. Lawrence 7th June 2021\n",
    "\n",
    "This notebook looks at the actual impact of the papers published using the Semantic Scholar data base for tracking citations."
   ]
  },
  {
   "cell_type": "code",
   "execution_count": null,
   "id": "e751288d",
   "metadata": {},
   "outputs": [],
   "source": [
    "import matplotlib.pyplot as plt\n",
    "plt.rcParams.update({'font.size': 22})"
   ]
  },
  {
   "cell_type": "code",
   "execution_count": null,
   "id": "b4602a47",
   "metadata": {},
   "outputs": [],
   "source": [
    "import cmtutils as cu\n",
    "import cmtutils.nipsy as nipsy\n",
    "import cmtutils.plot as plot"
   ]
  },
  {
   "cell_type": "code",
   "execution_count": null,
   "id": "461039cf",
   "metadata": {},
   "outputs": [],
   "source": [
    "import pandas as pd\n",
    "import numpy as np"
   ]
  },
  {
   "cell_type": "code",
   "execution_count": null,
   "id": "453a4807",
   "metadata": {},
   "outputs": [],
   "source": [
    "papers = cu.Papers()"
   ]
  },
  {
   "cell_type": "markdown",
   "id": "85498ed9",
   "metadata": {},
   "source": []
  },
  {
   "cell_type": "markdown",
   "id": "da34d8d6",
   "metadata": {},
   "source": [
    "https://proceedings.neurips.cc/paper/2014 "
   ]
  },
  {
   "cell_type": "code",
   "execution_count": null,
   "id": "802ece61",
   "metadata": {},
   "outputs": [],
   "source": [
    "date = \"2021-06-11\""
   ]
  },
  {
   "cell_type": "code",
   "execution_count": null,
   "id": "9a49f7d8",
   "metadata": {},
   "outputs": [],
   "source": [
    "semantic_ids = nipsy.load_semantic_ids()"
   ]
  },
  {
   "cell_type": "code",
   "execution_count": null,
   "id": "8f44341a",
   "metadata": {},
   "outputs": [],
   "source": [
    "citations = nipsy.load_citation_counts(date=date)\n"
   ]
  },
  {
   "cell_type": "code",
   "execution_count": null,
   "id": "95ed54b3",
   "metadata": {},
   "outputs": [],
   "source": [
    "citations_dict = citations.to_dict(orient='index')"
   ]
  },
  {
   "cell_type": "code",
   "execution_count": null,
   "id": "97e9a858",
   "metadata": {},
   "outputs": [],
   "source": [
    "sscholar = nipsy.download_citation_counts(citations_dict=citations_dict, semantic_ids=semantic_ids)"
   ]
  },
  {
   "cell_type": "code",
   "execution_count": null,
   "id": "bbb4464b",
   "metadata": {},
   "outputs": [],
   "source": [
    "citations = pd.DataFrame.from_dict(citations_dict, orient=\"index\")"
   ]
  },
  {
   "cell_type": "code",
   "execution_count": null,
   "id": "f292b982",
   "metadata": {},
   "outputs": [],
   "source": [
    "citations.to_pickle(date + '-semantic-scholar-info.pickle')"
   ]
  },
  {
   "cell_type": "code",
   "execution_count": null,
   "id": "acb2721d",
   "metadata": {},
   "outputs": [],
   "source": [
    "decisions = nipsy.load_decisions()\n",
    "nipsy.augment_decisions(decisions)"
   ]
  },
  {
   "cell_type": "code",
   "execution_count": null,
   "id": "d943e15c",
   "metadata": {},
   "outputs": [],
   "source": [
    "decisions.reject"
   ]
  },
  {
   "cell_type": "code",
   "execution_count": null,
   "id": "eebc510f",
   "metadata": {},
   "outputs": [],
   "source": [
    "joindf = nipsy.join_decisions_citations(decisions, citations)"
   ]
  },
  {
   "cell_type": "code",
   "execution_count": null,
   "id": "be357f46",
   "metadata": {},
   "outputs": [],
   "source": [
    "import matplotlib.pyplot as plt\n",
    "import mlai as ma"
   ]
  },
  {
   "cell_type": "code",
   "execution_count": null,
   "id": "05576a5a",
   "metadata": {},
   "outputs": [],
   "source": [
    "def plot_log_one_citations(column):\n",
    "    fig, ax = plt.subplots(figsize=plot.big_wide_figsize)\n",
    "    for index, symbol in zip(\n",
    "            [joindf.accept, joindf.reject_not_arxiv, joindf.reject_arxiv],\n",
    "            ['r.', 'g.', 'b.']\n",
    "            ):\n",
    "        ax.plot(joindf.loc[index][column], np.log10(1+joindf.loc[index]['numCitedBy']), symbol)\n",
    "    ax.set_xlabel(column.replace(\"_\", \" \"))\n",
    "    ax.set_ylabel(r\"log(1+citations)\")\n",
    "\n",
    "    ma.write_figure(filename=column.replace(\"_\", \"-\")+\"-vs-citations.svg\",\n",
    "                   directory=\"./neurips\")"
   ]
  },
  {
   "cell_type": "code",
   "execution_count": null,
   "id": "ed7462e6",
   "metadata": {},
   "outputs": [],
   "source": [
    "plot_log_one_citations('average_calibrated_quality')\n",
    "\n"
   ]
  },
  {
   "cell_type": "code",
   "execution_count": null,
   "id": "1faa434c",
   "metadata": {},
   "outputs": [],
   "source": [
    "plot_log_one_citations('average_impact')"
   ]
  },
  {
   "cell_type": "code",
   "execution_count": null,
   "id": "06a194b5",
   "metadata": {},
   "outputs": [],
   "source": [
    "joindf['average_impact'].corr(np.log(1+joindf['numCitedBy']))"
   ]
  },
  {
   "cell_type": "code",
   "execution_count": null,
   "id": "b10e64fb",
   "metadata": {},
   "outputs": [],
   "source": [
    "joindf['average_calibrated_quality'].corr(np.log(1+joindf['numCitedBy']))"
   ]
  },
  {
   "cell_type": "code",
   "execution_count": null,
   "id": "c1389a79",
   "metadata": {},
   "outputs": [],
   "source": [
    "joindf.loc[joindf.accept]['average_calibrated_quality'].corr(np.log(1+joindf.loc[joindf.accept]['numCitedBy']))"
   ]
  },
  {
   "cell_type": "code",
   "execution_count": null,
   "id": "42681211",
   "metadata": {},
   "outputs": [],
   "source": [
    "joindf.loc[joindf.reject]['average_calibrated_quality'].corr(np.log(1+joindf.loc[joindf.reject]['numCitedBy']))"
   ]
  },
  {
   "cell_type": "code",
   "execution_count": null,
   "id": "5247ed00",
   "metadata": {},
   "outputs": [],
   "source": [
    "joindf.loc[joindf.accept]['average_confidence'].corr(np.log(1+joindf.loc[joindf.accept]['numCitedBy']))"
   ]
  },
  {
   "cell_type": "code",
   "execution_count": null,
   "id": "ec2ee368",
   "metadata": {},
   "outputs": [],
   "source": [
    "joindf.loc[joindf.reject]['average_confidence'].corr(np.log(1+joindf.loc[joindf.reject]['numCitedBy']))"
   ]
  },
  {
   "cell_type": "code",
   "execution_count": null,
   "id": "7484aadc",
   "metadata": {},
   "outputs": [],
   "source": [
    "thresh = 6\n",
    "joindf.loc[joindf.average_calibrated_quality>thresh]['average_confidence'].corr(np.log(1+joindf.loc[joindf.average_calibrated_quality>thresh]['numCitedBy']))"
   ]
  },
  {
   "cell_type": "code",
   "execution_count": null,
   "id": "7737d57d",
   "metadata": {},
   "outputs": [],
   "source": [
    "thresh = 6\n",
    "joindf.loc[joindf.average_calibrated_quality<thresh]['average_confidence'].corr(np.log(1+joindf.loc[joindf.average_calibrated_quality<thresh]['numCitedBy']))"
   ]
  },
  {
   "cell_type": "code",
   "execution_count": null,
   "id": "91947a18",
   "metadata": {},
   "outputs": [],
   "source": [
    "fig, ax = plt.subplots(figsize=(10,5))\n",
    "venue_counts = joindf.loc[joindf.reject]['venue'].value_counts()\n",
    "venue_counts[venue_counts>1].plot(kind=\"bar\", ax=ax)"
   ]
  },
  {
   "cell_type": "code",
   "execution_count": null,
   "id": "15eeba7a",
   "metadata": {},
   "outputs": [],
   "source": [
    "import os\n",
    "import cmtutils.nipsy as nipsy\n",
    "original_pairs = pd.read_csv(os.path.join(nipsy.review_store, 'Duplicate_PaperID_Pairs.csv'), dtype={'original': 'string'}, index_col='original').dropna()\n",
    "duplicate_pairs = pd.read_csv(os.path.join(nipsy.review_store, 'Duplicate_PaperID_Pairs.csv'), dtype={'duplicate': 'string'}, index_col='duplicate').dropna()\n",
    "\n"
   ]
  },
  {
   "cell_type": "code",
   "execution_count": null,
   "id": "afa22cb8",
   "metadata": {},
   "outputs": [],
   "source": [
    "dupjoin = original_pairs.join(joindf, how='inner')\n",
    "dupjoin2 = duplicate_pairs.join(joindf, how='inner')"
   ]
  },
  {
   "cell_type": "code",
   "execution_count": null,
   "id": "f5efa85c",
   "metadata": {},
   "outputs": [],
   "source": [
    "dupjoin.loc[dupjoin.accept]['average_calibrated_quality'].corr(np.log(1+dupjoin.loc[dupjoin.accept]['numCitedBy']))"
   ]
  },
  {
   "cell_type": "code",
   "execution_count": null,
   "id": "99881a03",
   "metadata": {},
   "outputs": [],
   "source": [
    "fig, ax = plt.subplots(figsize=(8,8))\n",
    "ax.plot(dupjoin.loc[dupjoin.accept]['average_calibrated_quality'], np.log10(1+dupjoin.loc[dupjoin.accept]['numCitedBy']), 'r.')\n",
    "ax.plot(dupjoin.loc[dupjoin.reject_not_arxiv]['average_calibrated_quality'], np.log10(1+dupjoin.loc[dupjoin.reject_not_arxiv]['numCitedBy']), 'g.')\n",
    "ax.plot(dupjoin.loc[dupjoin.reject_arxiv]['average_calibrated_quality'], np.log10(1+dupjoin.loc[dupjoin.reject_arxiv]['numCitedBy']), 'b.')"
   ]
  },
  {
   "cell_type": "code",
   "execution_count": null,
   "id": "750a4a6a",
   "metadata": {},
   "outputs": [],
   "source": [
    "fig, ax = plt.subplots(figsize=(8,8))\n",
    "ax.plot(dupjoin2.loc[dupjoin2.accept]['average_calibrated_quality'], np.log10(1+dupjoin2.loc[dupjoin2.accept]['numCitedBy']), 'r.')\n",
    "ax.plot(dupjoin2.loc[dupjoin2.reject_not_arxiv]['average_calibrated_quality'], np.log10(1+dupjoin2.loc[dupjoin2.reject_not_arxiv]['numCitedBy']), 'g.')\n",
    "ax.plot(dupjoin2.loc[dupjoin2.reject_arxiv]['average_calibrated_quality'], np.log10(1+dupjoin2.loc[dupjoin2.reject_arxiv]['numCitedBy']), 'b.')"
   ]
  },
  {
   "cell_type": "code",
   "execution_count": null,
   "id": "aedb9939",
   "metadata": {},
   "outputs": [],
   "source": [
    "dupjoin.accept.sum()/dupjoin.accept.count()"
   ]
  },
  {
   "cell_type": "code",
   "execution_count": null,
   "id": "328c3e28",
   "metadata": {},
   "outputs": [],
   "source": [
    "joindf.loc[original_pairs.index]"
   ]
  },
  {
   "cell_type": "code",
   "execution_count": null,
   "id": "09183bcb",
   "metadata": {},
   "outputs": [],
   "source": [
    "(venue_counts[venue_counts>1].sum() - venue_counts['ArXiv'] - venue_counts[''])/joindf.reject.sum()"
   ]
  },
  {
   "cell_type": "code",
   "execution_count": null,
   "id": "4fb089ce",
   "metadata": {},
   "outputs": [],
   "source": [
    "joindf.loc['936'].arxivId"
   ]
  },
  {
   "cell_type": "code",
   "execution_count": null,
   "id": "689ab8af",
   "metadata": {},
   "outputs": [],
   "source": [
    "pd.isna(joindf.arxivId)"
   ]
  },
  {
   "cell_type": "code",
   "execution_count": null,
   "id": "82556330",
   "metadata": {},
   "outputs": [],
   "source": [
    "joindf[(joindf.venue=='') & (~pd.isna(joindf.arxivId))].venue"
   ]
  },
  {
   "cell_type": "code",
   "execution_count": null,
   "id": "dc8accb5",
   "metadata": {},
   "outputs": [],
   "source": [
    "joindf.loc['945'].url"
   ]
  },
  {
   "cell_type": "code",
   "execution_count": null,
   "id": "b224bdd7",
   "metadata": {},
   "outputs": [],
   "source": [
    "\n",
    "plt.plot(joindf.loc[joindf.accept]['average_confidence'], np.log10(1+joindf.loc[joindf.accept]['numCitedBy']), 'r.')\n",
    "plt.plot(joindf.loc[joindf.reject]['average_confidence'], np.log10(1+joindf.loc[joindf.reject]['numCitedBy']), 'g.')"
   ]
  },
  {
   "cell_type": "code",
   "execution_count": null,
   "id": "29e5ff13",
   "metadata": {},
   "outputs": [],
   "source": [
    "np.log10(1+ joindf['numCitedBy']).hist(bins=100)"
   ]
  },
  {
   "cell_type": "code",
   "execution_count": null,
   "id": "e4eba6bd",
   "metadata": {},
   "outputs": [],
   "source": [
    "joindf.columns"
   ]
  },
  {
   "cell_type": "code",
   "execution_count": null,
   "id": "73dc84f1",
   "metadata": {},
   "outputs": [],
   "source": []
  }
 ],
 "metadata": {
  "kernelspec": {
   "display_name": "Python 3",
   "language": "python",
   "name": "python3"
  },
  "language_info": {
   "codemirror_mode": {
    "name": "ipython",
    "version": 3
   },
   "file_extension": ".py",
   "mimetype": "text/x-python",
   "name": "python",
   "nbconvert_exporter": "python",
   "pygments_lexer": "ipython3",
   "version": "3.8.8"
  }
 },
 "nbformat": 4,
 "nbformat_minor": 5
}
