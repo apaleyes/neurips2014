{
 "cells": [
  {
   "cell_type": "markdown",
   "metadata": {},
   "source": [
    "# Assignment Differences\n",
    "\n",
    "### 8th July 2014 Neil D. Lawrence\n",
    "\n",
    "#### Updated May 2021\n",
    "\n",
    "During the review process there are problems with some reviewers not managing to complete their allocation. Or there may be more expertise required on an individual paper. Unfortunately, when a reviewer's allocation changes, they are not necessariliy informed. We developed scripts to check what the difference between two allocations was.\n",
    "\n",
    "Here we load in two assignment files and compute the differences so that those who have gained assignments can be emailed to let them know. The first thing to do is load in the two assignment files. First we load in an assignment from the 1st July."
   ]
  },
  {
   "cell_type": "code",
   "execution_count": null,
   "metadata": {},
   "outputs": [],
   "source": [
    "import cmtutils.cmtutils as cu\n",
    "a1 = cu.assignment()\n",
    "a1.load_assignment('2014-07-01_reviewer_assignments.txt')"
   ]
  },
  {
   "cell_type": "markdown",
   "metadata": {},
   "source": [
    "Now we load in an assignment from the 8th July."
   ]
  },
  {
   "cell_type": "code",
   "execution_count": null,
   "metadata": {},
   "outputs": [],
   "source": [
    "a2 = cu.assignment()\n",
    "a2.load_assignment('2014-07-08_reviewer_assignments.txt')"
   ]
  },
  {
   "cell_type": "markdown",
   "metadata": {},
   "source": [
    "Now the difference can be computed."
   ]
  },
  {
   "cell_type": "code",
   "execution_count": null,
   "metadata": {},
   "outputs": [],
   "source": [
    "d = a1.diff(a2)"
   ]
  },
  {
   "cell_type": "markdown",
   "metadata": {},
   "source": [
    "And those reviewers who have gained a review can be shown by joining them with a list."
   ]
  },
  {
   "cell_type": "code",
   "execution_count": null,
   "metadata": {},
   "outputs": [],
   "source": [
    "';'.join(d.gain_reviewer['reviewer'])"
   ]
  },
  {
   "cell_type": "markdown",
   "metadata": {},
   "source": [
    "Similarly those who've lost a review can also be seen."
   ]
  },
  {
   "cell_type": "code",
   "execution_count": null,
   "metadata": {},
   "outputs": [],
   "source": [
    "';'.join(a1.diff(a2).loss_reviewer['reviewer'])"
   ]
  }
 ],
 "metadata": {
  "kernelspec": {
   "display_name": "Python 3",
   "language": "python",
   "name": "python3"
  },
  "language_info": {
   "codemirror_mode": {
    "name": "ipython",
    "version": 3
   },
   "file_extension": ".py",
   "mimetype": "text/x-python",
   "name": "python",
   "nbconvert_exporter": "python",
   "pygments_lexer": "ipython3",
   "version": "3.8.5"
  }
 },
 "nbformat": 4,
 "nbformat_minor": 1
}
