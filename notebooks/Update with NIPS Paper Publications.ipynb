{
 "cells": [
  {
   "cell_type": "markdown",
   "metadata": {},
   "source": [
    "# Extract Paper Publication info from NIPS Export\n",
    "\n",
    "## May 4th 2014 Neil D. Lawrence\n",
    "\n",
    "This notebook loads in exports from the NIPS system which contain the number of papers published by each user in the system since a given year."
   ]
  },
  {
   "cell_type": "code",
   "execution_count": 1,
   "metadata": {},
   "outputs": [],
   "source": [
    "import cmtutils.cmtutils as cu\n",
    "db = cu.reviewerdb('reviewers.db')"
   ]
  },
  {
   "cell_type": "markdown",
   "metadata": {},
   "source": [
    "Extract the number of papers published by each user at NIPS since 2007."
   ]
  },
  {
   "cell_type": "code",
   "execution_count": null,
   "metadata": {},
   "outputs": [],
   "source": [
    "db.add_field('PapersSince2007') # add the field if it doesn't already exist\n",
    "ds = cu.old_csv_read('NIPS-ReviwerCandidates-1-since-2007-2014-05-04.csv')\n",
    "for reviewer in ds.items:\n",
    "    id = db.match_reviewer(reviewer, match_firstname=False, \n",
    "                           match_lastname=False, primary_email=False)\n",
    "    if id:\n",
    "        db.update_field(id, 'PapersSince2007', reviewer['NumPapers'])\n"
   ]
  },
  {
   "cell_type": "markdown",
   "metadata": {},
   "source": [
    "This is information from Chris Hiestand on how many papers a reviewer has published since 2012."
   ]
  },
  {
   "cell_type": "code",
   "execution_count": null,
   "metadata": {},
   "outputs": [],
   "source": [
    "db.add_field('PapersSince2012') # add the field if it doesn't already exist\n",
    "ds = cu.old_csv_read('NIPS-ReviwerCandidates-1-since-2012-2014-05-04.csv')\n",
    "for reviewer in ds.reviewers:\n",
    "    id = db.match_reviewer(reviewer, match_firstname=False, \n",
    "                           match_lastname=False, primary_email=False)\n",
    "    if id:\n",
    "        db.update_field(id, 'PapersSince2012', reviewer['NumPapers'])\n"
   ]
  }
 ],
 "metadata": {
  "kernelspec": {
   "display_name": "Python 3",
   "language": "python",
   "name": "python3"
  },
  "language_info": {
   "codemirror_mode": {
    "name": "ipython",
    "version": 3
   },
   "file_extension": ".py",
   "mimetype": "text/x-python",
   "name": "python",
   "nbconvert_exporter": "python",
   "pygments_lexer": "ipython3",
   "version": "3.8.5"
  }
 },
 "nbformat": 4,
 "nbformat_minor": 1
}
