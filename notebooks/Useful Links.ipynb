{
 "cells": [
  {
   "cell_type": "markdown",
   "metadata": {},
   "source": [
    "# Useful Links for CMT Exports\n",
    "\n",
    "### 27th October 2014 Neil D. Lawrence\n",
    "\n",
    "This notebook just contains some links to particular exports we used from the CMT system.\n",
    "\n",
    "### Full Paper Export\n",
    "\n",
    "https://cmt.research.microsoft.com/NIPS2014/Protected/Chair/PaperMetaDataExport.aspx?format=excel&deleted=false\n",
    "\n",
    "### Reviewer and Meta Reviewer Bids\n",
    "https://cmt.research.microsoft.com/NIPS2014/Protected/Chair/ManageAssignmentsExport.aspx?data=bids&view=cs&format=tab\n",
    "\n",
    "Load in bid information as downloaded from CMT.\n",
    "\n",
    "### TPMS Reviewer Matching Scores\n",
    "First you need to download the reviewer matching scores.\n",
    "\n",
    "https://cmt.research.microsoft.com/NIPS2014/Protected/Chair/ManageAssignmentsExport.aspx?data=externalmatching&view=cs&format=tab&excludemetareviewer=1&serviceid=1\n",
    "\n",
    "### Paper Subject Areas\n",
    "\n",
    "Now load in paper subject areas and group them by the Paper ID. This file is downloaded from:\n",
    "\n",
    "https://cmt.research.microsoft.com/NIPS2014/Protected/Chair/ManageAssignmentsExport.aspx?data=subjectareas&view=cs&format=excel\n",
    "\n",
    "### Reviewer Subject Areas\n",
    "\n",
    "Load in reviewer (or meta reviewer) subject areas and group them by email. This file is downloaded from:\n",
    "\n",
    "https://cmt.research.microsoft.com/NIPS2014/Protected/Chair/ManageAssignmentsExport.aspx?data=subjectareas&view=cr&format=excel\n",
    "\n",
    "## Reviewer Quotas\n",
    "\n",
    "https://cmt.research.microsoft.com/NIPS2014/Protected/Chair/ManageAssignmentsExport.aspx?data=reviewerquotas&view=cr&format=excel&tid=1\n",
    "\n",
    "### Possible Assignments and Conflicts\n",
    "\n",
    "Possible assignments is derived from the conflicts. It lists the people that the paper *could* be assigned to. This file is downloaded from:\n",
    "\n",
    "https://cmt.research.microsoft.com/NIPS2014/Protected/Chair/ManageAssignmentsExport.aspx?data=possibleassignments&view=cs&format=tab&excludemetareviewer=1\n",
    "\n",
    "Conflicts is downloaded from:\n",
    "\n",
    "https://cmt.research.microsoft.com/NIPS2014/Protected/Chair/ManageAssignmentsExport.aspx?data=conflicts&view=cs&format=tab"
   ]
  },
  {
   "cell_type": "code",
   "execution_count": null,
   "metadata": {},
   "outputs": [],
   "source": []
  }
 ],
 "metadata": {
  "kernelspec": {
   "display_name": "Python 3",
   "language": "python",
   "name": "python3"
  },
  "language_info": {
   "codemirror_mode": {
    "name": "ipython",
    "version": 3
   },
   "file_extension": ".py",
   "mimetype": "text/x-python",
   "name": "python",
   "nbconvert_exporter": "python",
   "pygments_lexer": "ipython3",
   "version": "3.8.5"
  }
 },
 "nbformat": 4,
 "nbformat_minor": 1
}
