{
 "cells": [
  {
   "cell_type": "markdown",
   "metadata": {},
   "source": [
    "# NIPS Experiment: Duplicate Papers\n",
    "\n",
    "### Neil D. Lawrence 9th June 2014\n",
    "\n",
    "In 2014 for NIPS we chose to do an experiment where 10% of papers were rereviewed. To do this we needed to split the program committee so that no program member would see the same paper twice.\n",
    "\n",
    "This notebook selects 10% of papers randomly for duplication. It then reads the allocated split of area chairs into two groups: `group1` and `group2` (from `AC.groups.csv`). It loads in the reviewers from the reviewer database and splits them into two equally sized groups randomly. "
   ]
  },
  {
   "cell_type": "code",
   "execution_count": 1,
   "metadata": {},
   "outputs": [],
   "source": [
    "import cmtutils.cmtutils as cu\n",
    "import sqlite3\n",
    "import os\n",
    "import pandas as pd\n",
    "import numpy as np\n",
    "import csv\n",
    "np.random.seed(seed=130000) # set the seed so that the split is repeatable."
   ]
  },
  {
   "cell_type": "markdown",
   "metadata": {},
   "source": [
    "First load in the papers from the paper data base."
   ]
  },
  {
   "cell_type": "code",
   "execution_count": 2,
   "metadata": {},
   "outputs": [],
   "source": [
    "\n",
    "filename = '2014-06-06_paper_list.xls'\n",
    "cmt = cu.cmt_papers_read(filename=filename)"
   ]
  },
  {
   "cell_type": "markdown",
   "metadata": {},
   "source": [
    "Now permute the paper list and select 170 (approximately 10%) for duplication. Sort the resulting list for convenience."
   ]
  },
  {
   "cell_type": "code",
   "execution_count": 3,
   "metadata": {},
   "outputs": [],
   "source": [
    "duplicate_list = np.random.permutation(cmt.papers.index)[:170]\n",
    "duplicate_list.sort()"
   ]
  },
  {
   "cell_type": "markdown",
   "metadata": {},
   "source": [
    "Save the duplicate list to a `.csv` file to export it to CMT."
   ]
  },
  {
   "cell_type": "code",
   "execution_count": 5,
   "metadata": {},
   "outputs": [],
   "source": [
    "import cmtutils.config as config"
   ]
  },
  {
   "cell_type": "code",
   "execution_count": 8,
   "metadata": {},
   "outputs": [
    {
     "ename": "FileNotFoundError",
     "evalue": "[Errno 2] No such file or directory: '$HOME/Documents/NIPS/data/duplicate_papers.csv'",
     "output_type": "error",
     "traceback": [
      "\u001b[0;31m---------------------------------------------------------------------------\u001b[0m",
      "\u001b[0;31mFileNotFoundError\u001b[0m                         Traceback (most recent call last)",
      "\u001b[0;32m<ipython-input-8-7c0354d25940>\u001b[0m in \u001b[0;36m<module>\u001b[0;34m\u001b[0m\n\u001b[0;32m----> 1\u001b[0;31m \u001b[0mf\u001b[0m \u001b[0;34m=\u001b[0m \u001b[0mopen\u001b[0m\u001b[0;34m(\u001b[0m\u001b[0mos\u001b[0m\u001b[0;34m.\u001b[0m\u001b[0mpath\u001b[0m\u001b[0;34m.\u001b[0m\u001b[0mjoin\u001b[0m\u001b[0;34m(\u001b[0m\u001b[0mnips_data_directory\u001b[0m\u001b[0;34m,\u001b[0m \u001b[0;34m\"duplicate_papers.csv\"\u001b[0m\u001b[0;34m)\u001b[0m\u001b[0;34m,\u001b[0m \u001b[0;34m'wb'\u001b[0m\u001b[0;34m)\u001b[0m\u001b[0;34m\u001b[0m\u001b[0;34m\u001b[0m\u001b[0m\n\u001b[0m\u001b[1;32m      2\u001b[0m \u001b[0mwr\u001b[0m \u001b[0;34m=\u001b[0m \u001b[0mcsv\u001b[0m\u001b[0;34m.\u001b[0m\u001b[0mwriter\u001b[0m\u001b[0;34m(\u001b[0m\u001b[0mf\u001b[0m\u001b[0;34m)\u001b[0m\u001b[0;34m\u001b[0m\u001b[0;34m\u001b[0m\u001b[0m\n\u001b[1;32m      3\u001b[0m \u001b[0mwr\u001b[0m\u001b[0;34m.\u001b[0m\u001b[0mwriterow\u001b[0m\u001b[0;34m(\u001b[0m\u001b[0mduplicate_list\u001b[0m\u001b[0;34m)\u001b[0m\u001b[0;34m\u001b[0m\u001b[0;34m\u001b[0m\u001b[0m\n\u001b[1;32m      4\u001b[0m \u001b[0mf\u001b[0m\u001b[0;34m.\u001b[0m\u001b[0mclose\u001b[0m\u001b[0;34m(\u001b[0m\u001b[0;34m)\u001b[0m\u001b[0;34m\u001b[0m\u001b[0;34m\u001b[0m\u001b[0m\n",
      "\u001b[0;31mFileNotFoundError\u001b[0m: [Errno 2] No such file or directory: '$HOME/Documents/NIPS/data/duplicate_papers.csv'"
     ]
    }
   ],
   "source": [
    "f = open(os.path.join(cu.cmt_data_directory, \"duplicate_papers.csv\"), 'wb')\n",
    "wr = csv.writer(f)\n",
    "wr.writerow(duplicate_list)\n",
    "f.close()"
   ]
  },
  {
   "cell_type": "markdown",
   "metadata": {},
   "source": [
    "Connect to the reviewer data base and load in all reviewers indexing by email."
   ]
  },
  {
   "cell_type": "code",
   "execution_count": 14,
   "metadata": {},
   "outputs": [],
   "source": [
    "con = sqlite3.connect(os.path.join(cmtutils.nips_data_directory, \"reviewers.db\"))\n",
    "all_reviewers = pd.read_sql(\"SELECT * from Reviewers WHERE IsReviewer=1\", con, index_col='Email')"
   ]
  },
  {
   "cell_type": "markdown",
   "metadata": {},
   "source": [
    "Read the list allocating area chairs to groups from `AC.groups.csv`."
   ]
  },
  {
   "cell_type": "code",
   "execution_count": 15,
   "metadata": {},
   "outputs": [],
   "source": [
    "area_chairs = pd.read_csv(os.path.join(cmtutils.nips_data_directory, \"AC.groups.csv\"), index_col='Email')"
   ]
  },
  {
   "cell_type": "markdown",
   "metadata": {},
   "source": [
    "Now find index (Email) of every reviewer that isn't an area chair, randomly permute the list."
   ]
  },
  {
   "cell_type": "code",
   "execution_count": 16,
   "metadata": {},
   "outputs": [],
   "source": [
    "reviewer_groups = all_reviewers.join(area_chairs)\n",
    "meta_reviewer_series = reviewer_groups.loc[:, 'IsMetaReviewer']\n",
    "reviewer_index = np.random.permutation(series[pd.isnull(meta_reviewer_series)].index)"
   ]
  },
  {
   "cell_type": "markdown",
   "metadata": {},
   "source": [
    "Now split that list into two and allocate reviewers to groups"
   ]
  },
  {
   "cell_type": "code",
   "execution_count": 17,
   "metadata": {},
   "outputs": [
    {
     "name": "stdout",
     "output_type": "stream",
     "text": [
      "Group\n",
      "group1    742\n",
      "group2    741\n",
      "dtype: int64\n"
     ]
    }
   ],
   "source": [
    "l = len(reviewer_index)\n",
    "group1_list = reviewer_index[:l/2]\n",
    "group2_list = reviewer_index[l/2:]\n",
    "for ind in group1_list:\n",
    "    reviewer_groups.loc[ind, 'Group'] = 'group1'\n",
    "for ind in group2_list:\n",
    "    reviewer_groups.loc[ind, 'Group'] = 'group2'\n",
    "reviewer_groups.describe()\n",
    "ndf = reviewer_groups.groupby('Group').size() # check group sizes are roughly equal.\n",
    "print ndf          "
   ]
  },
  {
   "cell_type": "markdown",
   "metadata": {},
   "source": [
    "Write the reviewer groups to file."
   ]
  },
  {
   "cell_type": "code",
   "execution_count": 18,
   "metadata": {},
   "outputs": [],
   "source": [
    "reviewer_groups.loc[:, 'Group'].to_csv(os.path.join(cmtutils.nips_data_directory, \"reviewer_groups.csv\"))"
   ]
  }
 ],
 "metadata": {
  "kernelspec": {
   "display_name": "Python 3",
   "language": "python",
   "name": "python3"
  },
  "language_info": {
   "codemirror_mode": {
    "name": "ipython",
    "version": 3
   },
   "file_extension": ".py",
   "mimetype": "text/x-python",
   "name": "python",
   "nbconvert_exporter": "python",
   "pygments_lexer": "ipython3",
   "version": "3.8.5"
  }
 },
 "nbformat": 4,
 "nbformat_minor": 1
}
