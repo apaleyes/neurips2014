{
 "cells": [
  {
   "cell_type": "markdown",
   "metadata": {},
   "source": [
    "# Remind Missing TPMS Accounts\n",
    "\n",
    "### 4th June 2014, Neil D. Lawrence\n",
    "\n",
    "#### Updated May 2021"
   ]
  },
  {
   "cell_type": "markdown",
   "metadata": {},
   "source": [
    "Notebook for reminding people who are missing their TPMS accounts. To run this you need to have given TPMS (Laurent Charlin) a list of NIPS reviewers in the system. Laurent runs a script every hour which filters out people who haven't got an account or those who haven't got any registered PDFs in the account. Lack of registered PDFs can happen because people are providing links to papers that are behind a firewall. \n",
    "\n",
    "The notebook produces two semicolon separated lists of user emails from CMT. The first is a list of users with no known account in the TPMS system. The second is a list of users with no PDFs associated with their account. These lists can be used along with the email wizard found at [] to send emails to the CMT users to update their TPMS account.\n",
    " \n",
    "First we import the `cmtutils` and load in the local Sqlite3 reviewer data base."
   ]
  },
  {
   "cell_type": "code",
   "execution_count": null,
   "metadata": {},
   "outputs": [],
   "source": [
    "import cmtutils.cmtutils as cu\n",
    "# Open the reviewer data base\n",
    "db = cu.reviewerdb('reviewers.db')"
   ]
  },
  {
   "cell_type": "markdown",
   "metadata": {},
   "source": [
    "Now download and display the result of Laurent Charlin's script."
   ]
  },
  {
   "cell_type": "code",
   "execution_count": null,
   "metadata": {},
   "outputs": [],
   "source": [
    "tp = cu.tpms()\n",
    "tp.reviewers"
   ]
  },
  {
   "cell_type": "markdown",
   "metadata": {},
   "source": [
    "Now look through the TPMS output for people who's accounts are unavailable, and return the IDs from the local reviewer data base."
   ]
  },
  {
   "cell_type": "code",
   "execution_count": null,
   "metadata": {},
   "outputs": [],
   "source": [
    "ids = db.match_tpms_status(tp, status='unavailable')"
   ]
  },
  {
   "cell_type": "markdown",
   "metadata": {},
   "source": [
    "Return a semi-colon separated list of reviwer emails given their IDs. Note it might be a good idea to export the current reviewer list and run [the notebook that updates the local data base emails from the CMT export](./Update DB from CMT Export.ipynb) before running this, otherwise if a reviewer has updated their email in CMT then the CMT system will complain when you paste in this list of email addresses that some of them aren't users in the system. You can find the email wizard for sending these mails [here](https://cmt.research.microsoft.com/NIPS2014/Protected/Chair/Emails/EmailWizard.aspx). Click on `Users by email` and paste the list produced below into the system."
   ]
  },
  {
   "cell_type": "code",
   "execution_count": null,
   "metadata": {},
   "outputs": [],
   "source": [
    "email = db.list_emails_from_ids(ids)\n",
    "print(email)"
   ]
  },
  {
   "cell_type": "markdown",
   "metadata": {},
   "source": [
    "These people can be emailed a mail along the following lines:"
   ]
  },
  {
   "cell_type": "markdown",
   "metadata": {},
   "source": [
    "```\n",
    "Dear $RecipientFirstName$ $RecipientLastName$,\n",
    "\n",
    "You need to create a TPMS account as soon *As Soon As Possible* for your NIPS reviewing. \n",
    "\n",
    "Please create your account from this location:\n",
    "\n",
    "http://papermatching.cs.toronto.edu/webapp/profileBrowser/register/\n",
    "\n",
    "Once you are logged in press 'upload papers' on the left side of the screen and then select papers either by giving their URLs or by uploading pdf files from your hard drive.\n",
    "\n",
    "It would be helpful for us if you use the same email address for your account that you are using for the CMT system.\n",
    "\n",
    "If you have any questions, please send a note to us at program-chairs@nips.cc\n",
    " \n",
    "NIPS submission deadline is at the end of this week and we need this task to be completed right away!\n",
    "\n",
    "With thanks,\n",
    " \n",
    "Corinna and Neil\n",
    "NIPS 2014 Program Co-chairs\n",
    "--\n",
    "Details of the TPMS system:\n",
    "\n",
    "NIPS 2014 will again be using the Toronto Matching System (TPMS) to help\n",
    "assign papers to area chairs and reviewers. \n",
    "\n",
    "TPMS makes use of topic models, derived from your existing papers, to match your expertise to papers submitted to the conference. To optimise the paper matching process, we'd like to ask you to create or update your profile on the TPMS system.\n",
    "\n",
    "If you have a TPMS account you can edit your profile here:\n",
    "http://papermatching.cs.toronto.edu/webapp/profileBrowser/login/\n",
    "```"
   ]
  },
  {
   "cell_type": "markdown",
   "metadata": {},
   "source": [
    "### Reviewers with Accounts but No PDFs\n",
    "\n",
    "Now do the same for people with no PDFs in their TPMS system. \n",
    "\n",
    "Note that it may be that, whilst they appear to have no PDFs, this is because TPMS couldn't access the PDFs. This can happen when the PDFs are behind a paywall, for example, that TPMS can't access through. This means some reviewers think they've added material to their account when they haven't"
   ]
  },
  {
   "cell_type": "code",
   "execution_count": null,
   "metadata": {},
   "outputs": [],
   "source": [
    "ids = db.match_tpms_status(tp, status='nopdfs')\n",
    "email = db.list_emails_from_ids(ids)\n",
    "print(email)"
   ]
  },
  {
   "cell_type": "markdown",
   "metadata": {},
   "source": [
    "The following mail can then be sent to these reviewers.\n",
    "\n",
    "```\n",
    "Subject: NIPS Reviewing 2014: Upload PDFs to TPMS (Reminder!)\n",
    "\n",
    "Dear $RecipientFirstName$ $RecipientLastName$,\n",
    "\n",
    "Thanks for creating your TPMS account. To understand your interests we need you to upload papers into the system, there are currently no PDFs uploaded in your account.\n",
    "\n",
    "You can access your profile here:\n",
    "\n",
    "http://papermatching.cs.toronto.edu/webapp/profileBrowser/login/\n",
    "\n",
    "Once you are logged in press 'upload papers' on the left side of the screen and then select papers either by giving their URLs or by uploading pdf files from your hard drive.\n",
    "\n",
    "If you have any questions, please send a note to us at program-chairs@nips.cc\n",
    " \n",
    "Please complete this task *As Soon As Possible*.\n",
    "\n",
    "With thanks,\n",
    " \n",
    "Corinna and Neil\n",
    "NIPS 2014 Program Co-chairs\n",
    "--\n",
    "Details of the TPMS system:\n",
    "\n",
    "NIPS 2014 will again be using the Toronto Matching System (TPMS) to help assign papers to area chairs and reviewers. \n",
    "\n",
    "TPMS makes use of topic models, derived from your existing papers, to match your expertise to papers submitted to the conference. To optimise the paper matching process, we'd like to ask you to create or update your profile on the TPMS system.\n",
    "```"
   ]
  }
 ],
 "metadata": {
  "kernelspec": {
   "display_name": "Python 3",
   "language": "python",
   "name": "python3"
  },
  "language_info": {
   "codemirror_mode": {
    "name": "ipython",
    "version": 3
   },
   "file_extension": ".py",
   "mimetype": "text/x-python",
   "name": "python",
   "nbconvert_exporter": "python",
   "pygments_lexer": "ipython3",
   "version": "3.8.5"
  }
 },
 "nbformat": 4,
 "nbformat_minor": 1
}
